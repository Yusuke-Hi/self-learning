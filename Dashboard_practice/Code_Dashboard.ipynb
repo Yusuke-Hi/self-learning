{
 "cells": [
  {
   "cell_type": "code",
   "execution_count": 13,
   "id": "13d0660b-89fd-4533-b67c-9529d4b6024b",
   "metadata": {},
   "outputs": [],
   "source": [
    "import pandas as pd\n",
    "import numpy as np\n",
    "\n",
    "import plotly.graph_objects as go\n",
    "from jupyter_dash import JupyterDash\n",
    "from dash import html\n",
    "from dash.dependencies import Input, Output\n",
    "import dash\n",
    "import dash_bootstrap_components as dbc\n",
    "from dash import dcc\n",
    "from dash.dependencies import Input, Output, State\n",
    "\n",
    "\n",
    "import plotly.graph_objects as go\n",
    "import plotly.figure_factory as ff\n",
    "\n",
    "import matplotlib.pyplot as plt\n",
    "import seaborn as sns"
   ]
  },
  {
   "cell_type": "code",
   "execution_count": 14,
   "id": "ac9c9460-fa2c-43bd-b72a-25bb7fa4911b",
   "metadata": {
    "scrolled": true
   },
   "outputs": [
    {
     "data": {
      "text/html": [
       "<div>\n",
       "<style scoped>\n",
       "    .dataframe tbody tr th:only-of-type {\n",
       "        vertical-align: middle;\n",
       "    }\n",
       "\n",
       "    .dataframe tbody tr th {\n",
       "        vertical-align: top;\n",
       "    }\n",
       "\n",
       "    .dataframe thead th {\n",
       "        text-align: right;\n",
       "    }\n",
       "</style>\n",
       "<table border=\"1\" class=\"dataframe\">\n",
       "  <thead>\n",
       "    <tr style=\"text-align: right;\">\n",
       "      <th></th>\n",
       "      <th>Booking_ID</th>\n",
       "      <th>no_of_adults</th>\n",
       "      <th>no_of_children</th>\n",
       "      <th>no_of_weekend_nights</th>\n",
       "      <th>no_of_week_nights</th>\n",
       "      <th>type_of_meal_plan</th>\n",
       "      <th>required_car_parking_space</th>\n",
       "      <th>room_type_reserved</th>\n",
       "      <th>lead_time</th>\n",
       "      <th>arrival_year</th>\n",
       "      <th>arrival_month</th>\n",
       "      <th>arrival_date</th>\n",
       "      <th>market_segment_type</th>\n",
       "      <th>repeated_guest</th>\n",
       "      <th>no_of_previous_cancellations</th>\n",
       "      <th>no_of_previous_bookings_not_canceled</th>\n",
       "      <th>avg_price_per_room</th>\n",
       "      <th>no_of_special_requests</th>\n",
       "      <th>booking_status</th>\n",
       "    </tr>\n",
       "  </thead>\n",
       "  <tbody>\n",
       "    <tr>\n",
       "      <th>4968</th>\n",
       "      <td>INN04969</td>\n",
       "      <td>2</td>\n",
       "      <td>1</td>\n",
       "      <td>1</td>\n",
       "      <td>0</td>\n",
       "      <td>Meal Plan 1</td>\n",
       "      <td>0</td>\n",
       "      <td>Room_Type 1</td>\n",
       "      <td>3</td>\n",
       "      <td>2017</td>\n",
       "      <td>8</td>\n",
       "      <td>23</td>\n",
       "      <td>Online</td>\n",
       "      <td>0</td>\n",
       "      <td>0</td>\n",
       "      <td>0</td>\n",
       "      <td>90.00</td>\n",
       "      <td>3</td>\n",
       "      <td>Not_Canceled</td>\n",
       "    </tr>\n",
       "    <tr>\n",
       "      <th>34540</th>\n",
       "      <td>INN34541</td>\n",
       "      <td>2</td>\n",
       "      <td>0</td>\n",
       "      <td>1</td>\n",
       "      <td>2</td>\n",
       "      <td>Meal Plan 1</td>\n",
       "      <td>0</td>\n",
       "      <td>Room_Type 4</td>\n",
       "      <td>9</td>\n",
       "      <td>2018</td>\n",
       "      <td>2</td>\n",
       "      <td>12</td>\n",
       "      <td>Offline</td>\n",
       "      <td>0</td>\n",
       "      <td>0</td>\n",
       "      <td>0</td>\n",
       "      <td>48.67</td>\n",
       "      <td>0</td>\n",
       "      <td>Not_Canceled</td>\n",
       "    </tr>\n",
       "    <tr>\n",
       "      <th>36108</th>\n",
       "      <td>INN36109</td>\n",
       "      <td>2</td>\n",
       "      <td>0</td>\n",
       "      <td>2</td>\n",
       "      <td>2</td>\n",
       "      <td>Meal Plan 1</td>\n",
       "      <td>0</td>\n",
       "      <td>Room_Type 1</td>\n",
       "      <td>24</td>\n",
       "      <td>2018</td>\n",
       "      <td>12</td>\n",
       "      <td>25</td>\n",
       "      <td>Online</td>\n",
       "      <td>0</td>\n",
       "      <td>0</td>\n",
       "      <td>0</td>\n",
       "      <td>95.20</td>\n",
       "      <td>1</td>\n",
       "      <td>Not_Canceled</td>\n",
       "    </tr>\n",
       "  </tbody>\n",
       "</table>\n",
       "</div>"
      ],
      "text/plain": [
       "      Booking_ID  no_of_adults  no_of_children  no_of_weekend_nights  \\\n",
       "4968    INN04969             2               1                     1   \n",
       "34540   INN34541             2               0                     1   \n",
       "36108   INN36109             2               0                     2   \n",
       "\n",
       "       no_of_week_nights type_of_meal_plan  required_car_parking_space  \\\n",
       "4968                   0       Meal Plan 1                           0   \n",
       "34540                  2       Meal Plan 1                           0   \n",
       "36108                  2       Meal Plan 1                           0   \n",
       "\n",
       "      room_type_reserved  lead_time  arrival_year  arrival_month  \\\n",
       "4968         Room_Type 1          3          2017              8   \n",
       "34540        Room_Type 4          9          2018              2   \n",
       "36108        Room_Type 1         24          2018             12   \n",
       "\n",
       "       arrival_date market_segment_type  repeated_guest  \\\n",
       "4968             23              Online               0   \n",
       "34540            12             Offline               0   \n",
       "36108            25              Online               0   \n",
       "\n",
       "       no_of_previous_cancellations  no_of_previous_bookings_not_canceled  \\\n",
       "4968                              0                                     0   \n",
       "34540                             0                                     0   \n",
       "36108                             0                                     0   \n",
       "\n",
       "       avg_price_per_room  no_of_special_requests booking_status  \n",
       "4968                90.00                       3   Not_Canceled  \n",
       "34540               48.67                       0   Not_Canceled  \n",
       "36108               95.20                       1   Not_Canceled  "
      ]
     },
     "execution_count": 14,
     "metadata": {},
     "output_type": "execute_result"
    }
   ],
   "source": [
    "#データ取得\n",
    "df = pd.read_csv(\"./data/Hotel Reservations.csv\").sample(frac=0.1, random_state=42)\n",
    "df.head(3)"
   ]
  },
  {
   "cell_type": "code",
   "execution_count": 15,
   "id": "39b8fbc4-e37b-4836-9ad5-142a81965461",
   "metadata": {},
   "outputs": [],
   "source": [
    "#グラフ作成用に特徴量を整理\n",
    "hist_scatter_cols = [\"lead_time\", \"arrival_date\",\"no_of_previous_bookings_not_canceled\",\"avg_price_per_room\",  ]\n",
    "bar_cols = [\"no_of_adults\", \"no_of_children\", \"no_of_weekend_nights\", \"type_of_meal_plan\", \\\n",
    "           \"required_car_parking_space\", \"room_type_reserved\", \"arrival_year\", \"arrival_month\", \\\n",
    "           \"market_segment_type\", \"repeated_guest\", \"no_of_previous_cancellations\", \"no_of_special_requests\"]"
   ]
  },
  {
   "cell_type": "code",
   "execution_count": 16,
   "id": "f52060b4-5736-44d5-9e94-3f33765cb6f1",
   "metadata": {},
   "outputs": [],
   "source": [
    "#カラーコード\n",
    "back_color = \"#f6f5f5\"\n",
    "plot_bg_color = \"#d8d2cb\"\n",
    "cancel_color = \"#ee6f57\"\n",
    "not_cancel_color = \"#145374\""
   ]
  },
  {
   "cell_type": "markdown",
   "id": "28fb8b10-887c-4e9b-ba60-d60351114e0f",
   "metadata": {},
   "source": [
    "### 円グラフ"
   ]
  },
  {
   "cell_type": "code",
   "execution_count": 17,
   "id": "1f3d140e-8cf7-4988-a43e-50f34d6206be",
   "metadata": {
    "scrolled": true
   },
   "outputs": [
    {
     "data": {
      "application/vnd.plotly.v1+json": {
       "config": {
        "plotlyServerURL": "https://plot.ly"
       },
       "data": [
        {
         "hole": 0.2,
         "labels": [
          "Canceled",
          "Not_Canceled"
         ],
         "marker": {
          "colors": [
           "#ee6f57",
           "#145374"
          ]
         },
         "type": "pie",
         "values": [
          0.33847850055126794,
          0.6615214994487321
         ]
        }
       ],
       "layout": {
        "height": 300,
        "legend": {
         "orientation": "h",
         "x": 1,
         "xanchor": "left",
         "y": 0.5,
         "yanchor": "top"
        },
        "margin": {
         "b": 0,
         "l": 0,
         "r": 0,
         "t": 0
        },
        "paper_bgcolor": "rgba(0, 0, 0, 0)",
        "template": {
         "data": {
          "bar": [
           {
            "error_x": {
             "color": "#2a3f5f"
            },
            "error_y": {
             "color": "#2a3f5f"
            },
            "marker": {
             "line": {
              "color": "#E5ECF6",
              "width": 0.5
             },
             "pattern": {
              "fillmode": "overlay",
              "size": 10,
              "solidity": 0.2
             }
            },
            "type": "bar"
           }
          ],
          "barpolar": [
           {
            "marker": {
             "line": {
              "color": "#E5ECF6",
              "width": 0.5
             },
             "pattern": {
              "fillmode": "overlay",
              "size": 10,
              "solidity": 0.2
             }
            },
            "type": "barpolar"
           }
          ],
          "carpet": [
           {
            "aaxis": {
             "endlinecolor": "#2a3f5f",
             "gridcolor": "white",
             "linecolor": "white",
             "minorgridcolor": "white",
             "startlinecolor": "#2a3f5f"
            },
            "baxis": {
             "endlinecolor": "#2a3f5f",
             "gridcolor": "white",
             "linecolor": "white",
             "minorgridcolor": "white",
             "startlinecolor": "#2a3f5f"
            },
            "type": "carpet"
           }
          ],
          "choropleth": [
           {
            "colorbar": {
             "outlinewidth": 0,
             "ticks": ""
            },
            "type": "choropleth"
           }
          ],
          "contour": [
           {
            "colorbar": {
             "outlinewidth": 0,
             "ticks": ""
            },
            "colorscale": [
             [
              0,
              "#0d0887"
             ],
             [
              0.1111111111111111,
              "#46039f"
             ],
             [
              0.2222222222222222,
              "#7201a8"
             ],
             [
              0.3333333333333333,
              "#9c179e"
             ],
             [
              0.4444444444444444,
              "#bd3786"
             ],
             [
              0.5555555555555556,
              "#d8576b"
             ],
             [
              0.6666666666666666,
              "#ed7953"
             ],
             [
              0.7777777777777778,
              "#fb9f3a"
             ],
             [
              0.8888888888888888,
              "#fdca26"
             ],
             [
              1,
              "#f0f921"
             ]
            ],
            "type": "contour"
           }
          ],
          "contourcarpet": [
           {
            "colorbar": {
             "outlinewidth": 0,
             "ticks": ""
            },
            "type": "contourcarpet"
           }
          ],
          "heatmap": [
           {
            "colorbar": {
             "outlinewidth": 0,
             "ticks": ""
            },
            "colorscale": [
             [
              0,
              "#0d0887"
             ],
             [
              0.1111111111111111,
              "#46039f"
             ],
             [
              0.2222222222222222,
              "#7201a8"
             ],
             [
              0.3333333333333333,
              "#9c179e"
             ],
             [
              0.4444444444444444,
              "#bd3786"
             ],
             [
              0.5555555555555556,
              "#d8576b"
             ],
             [
              0.6666666666666666,
              "#ed7953"
             ],
             [
              0.7777777777777778,
              "#fb9f3a"
             ],
             [
              0.8888888888888888,
              "#fdca26"
             ],
             [
              1,
              "#f0f921"
             ]
            ],
            "type": "heatmap"
           }
          ],
          "heatmapgl": [
           {
            "colorbar": {
             "outlinewidth": 0,
             "ticks": ""
            },
            "colorscale": [
             [
              0,
              "#0d0887"
             ],
             [
              0.1111111111111111,
              "#46039f"
             ],
             [
              0.2222222222222222,
              "#7201a8"
             ],
             [
              0.3333333333333333,
              "#9c179e"
             ],
             [
              0.4444444444444444,
              "#bd3786"
             ],
             [
              0.5555555555555556,
              "#d8576b"
             ],
             [
              0.6666666666666666,
              "#ed7953"
             ],
             [
              0.7777777777777778,
              "#fb9f3a"
             ],
             [
              0.8888888888888888,
              "#fdca26"
             ],
             [
              1,
              "#f0f921"
             ]
            ],
            "type": "heatmapgl"
           }
          ],
          "histogram": [
           {
            "marker": {
             "pattern": {
              "fillmode": "overlay",
              "size": 10,
              "solidity": 0.2
             }
            },
            "type": "histogram"
           }
          ],
          "histogram2d": [
           {
            "colorbar": {
             "outlinewidth": 0,
             "ticks": ""
            },
            "colorscale": [
             [
              0,
              "#0d0887"
             ],
             [
              0.1111111111111111,
              "#46039f"
             ],
             [
              0.2222222222222222,
              "#7201a8"
             ],
             [
              0.3333333333333333,
              "#9c179e"
             ],
             [
              0.4444444444444444,
              "#bd3786"
             ],
             [
              0.5555555555555556,
              "#d8576b"
             ],
             [
              0.6666666666666666,
              "#ed7953"
             ],
             [
              0.7777777777777778,
              "#fb9f3a"
             ],
             [
              0.8888888888888888,
              "#fdca26"
             ],
             [
              1,
              "#f0f921"
             ]
            ],
            "type": "histogram2d"
           }
          ],
          "histogram2dcontour": [
           {
            "colorbar": {
             "outlinewidth": 0,
             "ticks": ""
            },
            "colorscale": [
             [
              0,
              "#0d0887"
             ],
             [
              0.1111111111111111,
              "#46039f"
             ],
             [
              0.2222222222222222,
              "#7201a8"
             ],
             [
              0.3333333333333333,
              "#9c179e"
             ],
             [
              0.4444444444444444,
              "#bd3786"
             ],
             [
              0.5555555555555556,
              "#d8576b"
             ],
             [
              0.6666666666666666,
              "#ed7953"
             ],
             [
              0.7777777777777778,
              "#fb9f3a"
             ],
             [
              0.8888888888888888,
              "#fdca26"
             ],
             [
              1,
              "#f0f921"
             ]
            ],
            "type": "histogram2dcontour"
           }
          ],
          "mesh3d": [
           {
            "colorbar": {
             "outlinewidth": 0,
             "ticks": ""
            },
            "type": "mesh3d"
           }
          ],
          "parcoords": [
           {
            "line": {
             "colorbar": {
              "outlinewidth": 0,
              "ticks": ""
             }
            },
            "type": "parcoords"
           }
          ],
          "pie": [
           {
            "automargin": true,
            "type": "pie"
           }
          ],
          "scatter": [
           {
            "fillpattern": {
             "fillmode": "overlay",
             "size": 10,
             "solidity": 0.2
            },
            "type": "scatter"
           }
          ],
          "scatter3d": [
           {
            "line": {
             "colorbar": {
              "outlinewidth": 0,
              "ticks": ""
             }
            },
            "marker": {
             "colorbar": {
              "outlinewidth": 0,
              "ticks": ""
             }
            },
            "type": "scatter3d"
           }
          ],
          "scattercarpet": [
           {
            "marker": {
             "colorbar": {
              "outlinewidth": 0,
              "ticks": ""
             }
            },
            "type": "scattercarpet"
           }
          ],
          "scattergeo": [
           {
            "marker": {
             "colorbar": {
              "outlinewidth": 0,
              "ticks": ""
             }
            },
            "type": "scattergeo"
           }
          ],
          "scattergl": [
           {
            "marker": {
             "colorbar": {
              "outlinewidth": 0,
              "ticks": ""
             }
            },
            "type": "scattergl"
           }
          ],
          "scattermapbox": [
           {
            "marker": {
             "colorbar": {
              "outlinewidth": 0,
              "ticks": ""
             }
            },
            "type": "scattermapbox"
           }
          ],
          "scatterpolar": [
           {
            "marker": {
             "colorbar": {
              "outlinewidth": 0,
              "ticks": ""
             }
            },
            "type": "scatterpolar"
           }
          ],
          "scatterpolargl": [
           {
            "marker": {
             "colorbar": {
              "outlinewidth": 0,
              "ticks": ""
             }
            },
            "type": "scatterpolargl"
           }
          ],
          "scatterternary": [
           {
            "marker": {
             "colorbar": {
              "outlinewidth": 0,
              "ticks": ""
             }
            },
            "type": "scatterternary"
           }
          ],
          "surface": [
           {
            "colorbar": {
             "outlinewidth": 0,
             "ticks": ""
            },
            "colorscale": [
             [
              0,
              "#0d0887"
             ],
             [
              0.1111111111111111,
              "#46039f"
             ],
             [
              0.2222222222222222,
              "#7201a8"
             ],
             [
              0.3333333333333333,
              "#9c179e"
             ],
             [
              0.4444444444444444,
              "#bd3786"
             ],
             [
              0.5555555555555556,
              "#d8576b"
             ],
             [
              0.6666666666666666,
              "#ed7953"
             ],
             [
              0.7777777777777778,
              "#fb9f3a"
             ],
             [
              0.8888888888888888,
              "#fdca26"
             ],
             [
              1,
              "#f0f921"
             ]
            ],
            "type": "surface"
           }
          ],
          "table": [
           {
            "cells": {
             "fill": {
              "color": "#EBF0F8"
             },
             "line": {
              "color": "white"
             }
            },
            "header": {
             "fill": {
              "color": "#C8D4E3"
             },
             "line": {
              "color": "white"
             }
            },
            "type": "table"
           }
          ]
         },
         "layout": {
          "annotationdefaults": {
           "arrowcolor": "#2a3f5f",
           "arrowhead": 0,
           "arrowwidth": 1
          },
          "autotypenumbers": "strict",
          "coloraxis": {
           "colorbar": {
            "outlinewidth": 0,
            "ticks": ""
           }
          },
          "colorscale": {
           "diverging": [
            [
             0,
             "#8e0152"
            ],
            [
             0.1,
             "#c51b7d"
            ],
            [
             0.2,
             "#de77ae"
            ],
            [
             0.3,
             "#f1b6da"
            ],
            [
             0.4,
             "#fde0ef"
            ],
            [
             0.5,
             "#f7f7f7"
            ],
            [
             0.6,
             "#e6f5d0"
            ],
            [
             0.7,
             "#b8e186"
            ],
            [
             0.8,
             "#7fbc41"
            ],
            [
             0.9,
             "#4d9221"
            ],
            [
             1,
             "#276419"
            ]
           ],
           "sequential": [
            [
             0,
             "#0d0887"
            ],
            [
             0.1111111111111111,
             "#46039f"
            ],
            [
             0.2222222222222222,
             "#7201a8"
            ],
            [
             0.3333333333333333,
             "#9c179e"
            ],
            [
             0.4444444444444444,
             "#bd3786"
            ],
            [
             0.5555555555555556,
             "#d8576b"
            ],
            [
             0.6666666666666666,
             "#ed7953"
            ],
            [
             0.7777777777777778,
             "#fb9f3a"
            ],
            [
             0.8888888888888888,
             "#fdca26"
            ],
            [
             1,
             "#f0f921"
            ]
           ],
           "sequentialminus": [
            [
             0,
             "#0d0887"
            ],
            [
             0.1111111111111111,
             "#46039f"
            ],
            [
             0.2222222222222222,
             "#7201a8"
            ],
            [
             0.3333333333333333,
             "#9c179e"
            ],
            [
             0.4444444444444444,
             "#bd3786"
            ],
            [
             0.5555555555555556,
             "#d8576b"
            ],
            [
             0.6666666666666666,
             "#ed7953"
            ],
            [
             0.7777777777777778,
             "#fb9f3a"
            ],
            [
             0.8888888888888888,
             "#fdca26"
            ],
            [
             1,
             "#f0f921"
            ]
           ]
          },
          "colorway": [
           "#636efa",
           "#EF553B",
           "#00cc96",
           "#ab63fa",
           "#FFA15A",
           "#19d3f3",
           "#FF6692",
           "#B6E880",
           "#FF97FF",
           "#FECB52"
          ],
          "font": {
           "color": "#2a3f5f"
          },
          "geo": {
           "bgcolor": "white",
           "lakecolor": "white",
           "landcolor": "#E5ECF6",
           "showlakes": true,
           "showland": true,
           "subunitcolor": "white"
          },
          "hoverlabel": {
           "align": "left"
          },
          "hovermode": "closest",
          "mapbox": {
           "style": "light"
          },
          "paper_bgcolor": "white",
          "plot_bgcolor": "#E5ECF6",
          "polar": {
           "angularaxis": {
            "gridcolor": "white",
            "linecolor": "white",
            "ticks": ""
           },
           "bgcolor": "#E5ECF6",
           "radialaxis": {
            "gridcolor": "white",
            "linecolor": "white",
            "ticks": ""
           }
          },
          "scene": {
           "xaxis": {
            "backgroundcolor": "#E5ECF6",
            "gridcolor": "white",
            "gridwidth": 2,
            "linecolor": "white",
            "showbackground": true,
            "ticks": "",
            "zerolinecolor": "white"
           },
           "yaxis": {
            "backgroundcolor": "#E5ECF6",
            "gridcolor": "white",
            "gridwidth": 2,
            "linecolor": "white",
            "showbackground": true,
            "ticks": "",
            "zerolinecolor": "white"
           },
           "zaxis": {
            "backgroundcolor": "#E5ECF6",
            "gridcolor": "white",
            "gridwidth": 2,
            "linecolor": "white",
            "showbackground": true,
            "ticks": "",
            "zerolinecolor": "white"
           }
          },
          "shapedefaults": {
           "line": {
            "color": "#2a3f5f"
           }
          },
          "ternary": {
           "aaxis": {
            "gridcolor": "white",
            "linecolor": "white",
            "ticks": ""
           },
           "baxis": {
            "gridcolor": "white",
            "linecolor": "white",
            "ticks": ""
           },
           "bgcolor": "#E5ECF6",
           "caxis": {
            "gridcolor": "white",
            "linecolor": "white",
            "ticks": ""
           }
          },
          "title": {
           "x": 0.05
          },
          "xaxis": {
           "automargin": true,
           "gridcolor": "white",
           "linecolor": "white",
           "ticks": "",
           "title": {
            "standoff": 15
           },
           "zerolinecolor": "white",
           "zerolinewidth": 2
          },
          "yaxis": {
           "automargin": true,
           "gridcolor": "white",
           "linecolor": "white",
           "ticks": "",
           "title": {
            "standoff": 15
           },
           "zerolinecolor": "white",
           "zerolinewidth": 2
          }
         }
        },
        "width": 500
       }
      },
      "text/html": [
       "<div>                            <div id=\"10a72faa-0066-427b-83f4-1b944267a425\" class=\"plotly-graph-div\" style=\"height:300px; width:500px;\"></div>            <script type=\"text/javascript\">                require([\"plotly\"], function(Plotly) {                    window.PLOTLYENV=window.PLOTLYENV || {};                                    if (document.getElementById(\"10a72faa-0066-427b-83f4-1b944267a425\")) {                    Plotly.newPlot(                        \"10a72faa-0066-427b-83f4-1b944267a425\",                        [{\"hole\":0.2,\"labels\":[\"Canceled\",\"Not_Canceled\"],\"marker\":{\"colors\":[\"#ee6f57\",\"#145374\"]},\"values\":[0.33847850055126794,0.6615214994487321],\"type\":\"pie\"}],                        {\"template\":{\"data\":{\"histogram2dcontour\":[{\"type\":\"histogram2dcontour\",\"colorbar\":{\"outlinewidth\":0,\"ticks\":\"\"},\"colorscale\":[[0.0,\"#0d0887\"],[0.1111111111111111,\"#46039f\"],[0.2222222222222222,\"#7201a8\"],[0.3333333333333333,\"#9c179e\"],[0.4444444444444444,\"#bd3786\"],[0.5555555555555556,\"#d8576b\"],[0.6666666666666666,\"#ed7953\"],[0.7777777777777778,\"#fb9f3a\"],[0.8888888888888888,\"#fdca26\"],[1.0,\"#f0f921\"]]}],\"choropleth\":[{\"type\":\"choropleth\",\"colorbar\":{\"outlinewidth\":0,\"ticks\":\"\"}}],\"histogram2d\":[{\"type\":\"histogram2d\",\"colorbar\":{\"outlinewidth\":0,\"ticks\":\"\"},\"colorscale\":[[0.0,\"#0d0887\"],[0.1111111111111111,\"#46039f\"],[0.2222222222222222,\"#7201a8\"],[0.3333333333333333,\"#9c179e\"],[0.4444444444444444,\"#bd3786\"],[0.5555555555555556,\"#d8576b\"],[0.6666666666666666,\"#ed7953\"],[0.7777777777777778,\"#fb9f3a\"],[0.8888888888888888,\"#fdca26\"],[1.0,\"#f0f921\"]]}],\"heatmap\":[{\"type\":\"heatmap\",\"colorbar\":{\"outlinewidth\":0,\"ticks\":\"\"},\"colorscale\":[[0.0,\"#0d0887\"],[0.1111111111111111,\"#46039f\"],[0.2222222222222222,\"#7201a8\"],[0.3333333333333333,\"#9c179e\"],[0.4444444444444444,\"#bd3786\"],[0.5555555555555556,\"#d8576b\"],[0.6666666666666666,\"#ed7953\"],[0.7777777777777778,\"#fb9f3a\"],[0.8888888888888888,\"#fdca26\"],[1.0,\"#f0f921\"]]}],\"heatmapgl\":[{\"type\":\"heatmapgl\",\"colorbar\":{\"outlinewidth\":0,\"ticks\":\"\"},\"colorscale\":[[0.0,\"#0d0887\"],[0.1111111111111111,\"#46039f\"],[0.2222222222222222,\"#7201a8\"],[0.3333333333333333,\"#9c179e\"],[0.4444444444444444,\"#bd3786\"],[0.5555555555555556,\"#d8576b\"],[0.6666666666666666,\"#ed7953\"],[0.7777777777777778,\"#fb9f3a\"],[0.8888888888888888,\"#fdca26\"],[1.0,\"#f0f921\"]]}],\"contourcarpet\":[{\"type\":\"contourcarpet\",\"colorbar\":{\"outlinewidth\":0,\"ticks\":\"\"}}],\"contour\":[{\"type\":\"contour\",\"colorbar\":{\"outlinewidth\":0,\"ticks\":\"\"},\"colorscale\":[[0.0,\"#0d0887\"],[0.1111111111111111,\"#46039f\"],[0.2222222222222222,\"#7201a8\"],[0.3333333333333333,\"#9c179e\"],[0.4444444444444444,\"#bd3786\"],[0.5555555555555556,\"#d8576b\"],[0.6666666666666666,\"#ed7953\"],[0.7777777777777778,\"#fb9f3a\"],[0.8888888888888888,\"#fdca26\"],[1.0,\"#f0f921\"]]}],\"surface\":[{\"type\":\"surface\",\"colorbar\":{\"outlinewidth\":0,\"ticks\":\"\"},\"colorscale\":[[0.0,\"#0d0887\"],[0.1111111111111111,\"#46039f\"],[0.2222222222222222,\"#7201a8\"],[0.3333333333333333,\"#9c179e\"],[0.4444444444444444,\"#bd3786\"],[0.5555555555555556,\"#d8576b\"],[0.6666666666666666,\"#ed7953\"],[0.7777777777777778,\"#fb9f3a\"],[0.8888888888888888,\"#fdca26\"],[1.0,\"#f0f921\"]]}],\"mesh3d\":[{\"type\":\"mesh3d\",\"colorbar\":{\"outlinewidth\":0,\"ticks\":\"\"}}],\"scatter\":[{\"fillpattern\":{\"fillmode\":\"overlay\",\"size\":10,\"solidity\":0.2},\"type\":\"scatter\"}],\"parcoords\":[{\"type\":\"parcoords\",\"line\":{\"colorbar\":{\"outlinewidth\":0,\"ticks\":\"\"}}}],\"scatterpolargl\":[{\"type\":\"scatterpolargl\",\"marker\":{\"colorbar\":{\"outlinewidth\":0,\"ticks\":\"\"}}}],\"bar\":[{\"error_x\":{\"color\":\"#2a3f5f\"},\"error_y\":{\"color\":\"#2a3f5f\"},\"marker\":{\"line\":{\"color\":\"#E5ECF6\",\"width\":0.5},\"pattern\":{\"fillmode\":\"overlay\",\"size\":10,\"solidity\":0.2}},\"type\":\"bar\"}],\"scattergeo\":[{\"type\":\"scattergeo\",\"marker\":{\"colorbar\":{\"outlinewidth\":0,\"ticks\":\"\"}}}],\"scatterpolar\":[{\"type\":\"scatterpolar\",\"marker\":{\"colorbar\":{\"outlinewidth\":0,\"ticks\":\"\"}}}],\"histogram\":[{\"marker\":{\"pattern\":{\"fillmode\":\"overlay\",\"size\":10,\"solidity\":0.2}},\"type\":\"histogram\"}],\"scattergl\":[{\"type\":\"scattergl\",\"marker\":{\"colorbar\":{\"outlinewidth\":0,\"ticks\":\"\"}}}],\"scatter3d\":[{\"type\":\"scatter3d\",\"line\":{\"colorbar\":{\"outlinewidth\":0,\"ticks\":\"\"}},\"marker\":{\"colorbar\":{\"outlinewidth\":0,\"ticks\":\"\"}}}],\"scattermapbox\":[{\"type\":\"scattermapbox\",\"marker\":{\"colorbar\":{\"outlinewidth\":0,\"ticks\":\"\"}}}],\"scatterternary\":[{\"type\":\"scatterternary\",\"marker\":{\"colorbar\":{\"outlinewidth\":0,\"ticks\":\"\"}}}],\"scattercarpet\":[{\"type\":\"scattercarpet\",\"marker\":{\"colorbar\":{\"outlinewidth\":0,\"ticks\":\"\"}}}],\"carpet\":[{\"aaxis\":{\"endlinecolor\":\"#2a3f5f\",\"gridcolor\":\"white\",\"linecolor\":\"white\",\"minorgridcolor\":\"white\",\"startlinecolor\":\"#2a3f5f\"},\"baxis\":{\"endlinecolor\":\"#2a3f5f\",\"gridcolor\":\"white\",\"linecolor\":\"white\",\"minorgridcolor\":\"white\",\"startlinecolor\":\"#2a3f5f\"},\"type\":\"carpet\"}],\"table\":[{\"cells\":{\"fill\":{\"color\":\"#EBF0F8\"},\"line\":{\"color\":\"white\"}},\"header\":{\"fill\":{\"color\":\"#C8D4E3\"},\"line\":{\"color\":\"white\"}},\"type\":\"table\"}],\"barpolar\":[{\"marker\":{\"line\":{\"color\":\"#E5ECF6\",\"width\":0.5},\"pattern\":{\"fillmode\":\"overlay\",\"size\":10,\"solidity\":0.2}},\"type\":\"barpolar\"}],\"pie\":[{\"automargin\":true,\"type\":\"pie\"}]},\"layout\":{\"autotypenumbers\":\"strict\",\"colorway\":[\"#636efa\",\"#EF553B\",\"#00cc96\",\"#ab63fa\",\"#FFA15A\",\"#19d3f3\",\"#FF6692\",\"#B6E880\",\"#FF97FF\",\"#FECB52\"],\"font\":{\"color\":\"#2a3f5f\"},\"hovermode\":\"closest\",\"hoverlabel\":{\"align\":\"left\"},\"paper_bgcolor\":\"white\",\"plot_bgcolor\":\"#E5ECF6\",\"polar\":{\"bgcolor\":\"#E5ECF6\",\"angularaxis\":{\"gridcolor\":\"white\",\"linecolor\":\"white\",\"ticks\":\"\"},\"radialaxis\":{\"gridcolor\":\"white\",\"linecolor\":\"white\",\"ticks\":\"\"}},\"ternary\":{\"bgcolor\":\"#E5ECF6\",\"aaxis\":{\"gridcolor\":\"white\",\"linecolor\":\"white\",\"ticks\":\"\"},\"baxis\":{\"gridcolor\":\"white\",\"linecolor\":\"white\",\"ticks\":\"\"},\"caxis\":{\"gridcolor\":\"white\",\"linecolor\":\"white\",\"ticks\":\"\"}},\"coloraxis\":{\"colorbar\":{\"outlinewidth\":0,\"ticks\":\"\"}},\"colorscale\":{\"sequential\":[[0.0,\"#0d0887\"],[0.1111111111111111,\"#46039f\"],[0.2222222222222222,\"#7201a8\"],[0.3333333333333333,\"#9c179e\"],[0.4444444444444444,\"#bd3786\"],[0.5555555555555556,\"#d8576b\"],[0.6666666666666666,\"#ed7953\"],[0.7777777777777778,\"#fb9f3a\"],[0.8888888888888888,\"#fdca26\"],[1.0,\"#f0f921\"]],\"sequentialminus\":[[0.0,\"#0d0887\"],[0.1111111111111111,\"#46039f\"],[0.2222222222222222,\"#7201a8\"],[0.3333333333333333,\"#9c179e\"],[0.4444444444444444,\"#bd3786\"],[0.5555555555555556,\"#d8576b\"],[0.6666666666666666,\"#ed7953\"],[0.7777777777777778,\"#fb9f3a\"],[0.8888888888888888,\"#fdca26\"],[1.0,\"#f0f921\"]],\"diverging\":[[0,\"#8e0152\"],[0.1,\"#c51b7d\"],[0.2,\"#de77ae\"],[0.3,\"#f1b6da\"],[0.4,\"#fde0ef\"],[0.5,\"#f7f7f7\"],[0.6,\"#e6f5d0\"],[0.7,\"#b8e186\"],[0.8,\"#7fbc41\"],[0.9,\"#4d9221\"],[1,\"#276419\"]]},\"xaxis\":{\"gridcolor\":\"white\",\"linecolor\":\"white\",\"ticks\":\"\",\"title\":{\"standoff\":15},\"zerolinecolor\":\"white\",\"automargin\":true,\"zerolinewidth\":2},\"yaxis\":{\"gridcolor\":\"white\",\"linecolor\":\"white\",\"ticks\":\"\",\"title\":{\"standoff\":15},\"zerolinecolor\":\"white\",\"automargin\":true,\"zerolinewidth\":2},\"scene\":{\"xaxis\":{\"backgroundcolor\":\"#E5ECF6\",\"gridcolor\":\"white\",\"linecolor\":\"white\",\"showbackground\":true,\"ticks\":\"\",\"zerolinecolor\":\"white\",\"gridwidth\":2},\"yaxis\":{\"backgroundcolor\":\"#E5ECF6\",\"gridcolor\":\"white\",\"linecolor\":\"white\",\"showbackground\":true,\"ticks\":\"\",\"zerolinecolor\":\"white\",\"gridwidth\":2},\"zaxis\":{\"backgroundcolor\":\"#E5ECF6\",\"gridcolor\":\"white\",\"linecolor\":\"white\",\"showbackground\":true,\"ticks\":\"\",\"zerolinecolor\":\"white\",\"gridwidth\":2}},\"shapedefaults\":{\"line\":{\"color\":\"#2a3f5f\"}},\"annotationdefaults\":{\"arrowcolor\":\"#2a3f5f\",\"arrowhead\":0,\"arrowwidth\":1},\"geo\":{\"bgcolor\":\"white\",\"landcolor\":\"#E5ECF6\",\"subunitcolor\":\"white\",\"showland\":true,\"showlakes\":true,\"lakecolor\":\"white\"},\"title\":{\"x\":0.05},\"mapbox\":{\"style\":\"light\"}}},\"legend\":{\"x\":1,\"y\":0.5,\"xanchor\":\"left\",\"yanchor\":\"top\",\"orientation\":\"h\"},\"margin\":{\"l\":0,\"r\":0,\"t\":0,\"b\":0},\"width\":500,\"height\":300,\"paper_bgcolor\":\"rgba(0,0,0,0)\"},                        {\"responsive\": true}                    ).then(function(){\n",
       "                            \n",
       "var gd = document.getElementById('10a72faa-0066-427b-83f4-1b944267a425');\n",
       "var x = new MutationObserver(function (mutations, observer) {{\n",
       "        var display = window.getComputedStyle(gd).display;\n",
       "        if (!display || display === 'none') {{\n",
       "            console.log([gd, 'removed!']);\n",
       "            Plotly.purge(gd);\n",
       "            observer.disconnect();\n",
       "        }}\n",
       "}});\n",
       "\n",
       "// Listen for the removal of the full notebook cells\n",
       "var notebookContainer = gd.closest('#notebook-container');\n",
       "if (notebookContainer) {{\n",
       "    x.observe(notebookContainer, {childList: true});\n",
       "}}\n",
       "\n",
       "// Listen for the clearing of the current output cell\n",
       "var outputEl = gd.closest('.output');\n",
       "if (outputEl) {{\n",
       "    x.observe(outputEl, {childList: true});\n",
       "}}\n",
       "\n",
       "                        })                };                });            </script>        </div>"
      ]
     },
     "metadata": {},
     "output_type": "display_data"
    }
   ],
   "source": [
    "#円グラフ作成\n",
    "#割合を計算\n",
    "pie = df.groupby(\"booking_status\").count()[\"Booking_ID\"]/len(df)\n",
    "\n",
    "#円グラフのfigure\n",
    "fig_pie = go.Figure(\n",
    "    data = [go.Pie(labels=list(pie.index),#label\n",
    "                   values=pie.values,#値\n",
    "                   hole=0.2,#穴の大きさ\n",
    "                   marker=dict(colors=[cancel_color, not_cancel_color]))])#色指定\n",
    "\n",
    "#円グラフのレイアウト設定\n",
    "fig_pie.update_layout(\n",
    "    legend=dict(x=1, y=0.5,\n",
    "                xanchor=\"left\",\n",
    "                yanchor=\"top\",\n",
    "                orientation=\"h\"),\n",
    "    width=500,\n",
    "    height=300,\n",
    "    margin=dict(l=0, r=0, t=0, b=0),\n",
    "    paper_bgcolor=\"rgba(0,0,0,0)\",\n",
    ")"
   ]
  },
  {
   "cell_type": "markdown",
   "id": "d301f06f-210c-462c-a98b-425c1fdce4e1",
   "metadata": {},
   "source": [
    "## appのインスタンス化"
   ]
  },
  {
   "cell_type": "code",
   "execution_count": 18,
   "id": "b291cf3a-af89-453b-b472-08d1435e5970",
   "metadata": {},
   "outputs": [],
   "source": [
    "#インスタンス化、テーマ設定\n",
    "app = dash.Dash(external_stylesheets=[dbc.themes.FLATLY])\n",
    "\n",
    "# サーバー\n",
    "server = app.server"
   ]
  },
  {
   "cell_type": "markdown",
   "id": "9dc6c166-2808-4199-af5a-ff78cc7db036",
   "metadata": {},
   "source": [
    "# ダッシュボード"
   ]
  },
  {
   "cell_type": "code",
   "execution_count": 19,
   "id": "1cf2437d-4d2a-42b5-8539-bdbe942ee8ce",
   "metadata": {},
   "outputs": [],
   "source": [
    "#LeftAreaのレイアウト\n",
    "LeftArea = html.Div(\n",
    "    [\n",
    "        dbc.Row(#見出し\n",
    "            [\n",
    "                html.Div([\n",
    "                    html.H5('Target Ratio', className='font-weight-bold'),\n",
    "                    ])\n",
    "            ],\n",
    "            style={\"height\": \"4vh\",\n",
    "                  \"width\":800}, className='bg-black text-white'\n",
    "            ),\n",
    "        dbc.Row(#円グラフ\n",
    "            [\n",
    "                html.Div([\n",
    "                    dcc.Graph(figure=fig_pie)\n",
    "                    ])\n",
    "            ],\n",
    "            style={\"height\": \"40vh\",\n",
    "                  \"width\":500,\n",
    "                  \"margin-left\" :100,\n",
    "                  \"margin-top\" : 10}\n",
    "            ),\n",
    "        dbc.Row(#見出し\n",
    "            [\n",
    "                html.H5('Scatter Plot', className='font-weight-bold')\n",
    "                ],\n",
    "          style={\"height\": \"4vh\",\n",
    "                  \"width\":800}, className='bg-black text-white'\n",
    "            ),\n",
    "        dbc.Row([#軸名の記載\n",
    "                html.Div([\n",
    "                    html.H6('X Axis :', className='font-weight-bold'),\n",
    "                    ],style={\"width\" : 100,\n",
    "                            \"margin-top\" : 5}),\n",
    "            #ドロップダウン x軸\n",
    "            dcc.Dropdown(id='scatter_x', multi=False, value='avg_price_per_room',\n",
    "                                 options=[{'label': x, 'value': x}\n",
    "                                          for x in hist_scatter_cols],\n",
    "                                 style={'width': 400,\n",
    "                                       \"margin-top\":1}\n",
    "                                 )\n",
    "                \n",
    "                ]\n",
    "           \n",
    "            ),\n",
    "        dbc.Row([#軸名の記載\n",
    "            html.Div([\n",
    "                    html.H6('Y Axis :', className='font-weight-bold'),\n",
    "                    ],style={\"width\" : 100,\n",
    "                            \"margin-top\" : 5}),\n",
    "            #ドロップダウン y軸\n",
    "                 dcc.Dropdown(id='scatter_y', multi=False, value='lead_time',\n",
    "                                 options=[{'label': x, 'value': x}\n",
    "                                          for x in hist_scatter_cols],\n",
    "                                 style={'width': 400,\n",
    "                                       \"margin-top\":1}\n",
    "                                 ),\n",
    "            #applyボタン\n",
    "             html.Button(id='scatter-button', n_clicks=0, children='apply',\n",
    "                                 style={'width': 100,\n",
    "                                       \"margin-left\":30,\n",
    "                                       \"margin-bottom\":5},\n",
    "                                className='bg-dark text-white')\n",
    "                \n",
    "                ]\n",
    "           \n",
    "            ),\n",
    "        dbc.Row(#散布図\n",
    "            [\n",
    "                html.Div([\n",
    "                    dcc.Graph(id=\"scatter_chart\",\n",
    "                        figure={})\n",
    "                    ])\n",
    "            ],\n",
    "            style={\"height\": \"39.83vh\",\n",
    "                   \"width\" : 700,\n",
    "                  \"margin-left\" : 0,\n",
    "                  \"margin-top\" : 0}\n",
    "            ),\n",
    "        ]\n",
    "    )\n",
    "#散布図\n",
    "@app.callback(\n",
    "    Output('scatter_chart', 'figure'),\n",
    "    Input('scatter-button', 'n_clicks'),\n",
    "    State('scatter_x', 'value'),\n",
    "    State('scatter_y', 'value')\n",
    ")\n",
    "def update_graph(n_clicks, scatter_x, scatter_y):\n",
    "    fig_scatter = go.Figure()\n",
    "    fig_scatter.add_trace(go.Scatter(name='Not_Canceled',\n",
    "                                     x=df.query('booking_status==\"Not_Canceled\"')[scatter_x], \n",
    "                                     y=df.query('booking_status==\"Not_Canceled\"')[scatter_y],\n",
    "                                     mode='markers',\n",
    "                                     marker={\"color\" : not_cancel_color})\n",
    "                      )\n",
    "    fig_scatter.add_trace(go.Scatter(name='Canceled',\n",
    "                                     x=df.query('booking_status==\"Canceled\"')[scatter_x], \n",
    "                                     y=df.query('booking_status==\"Canceled\"')[scatter_y],\n",
    "                                     mode='markers', marker={\"opacity\":0.5,\n",
    "                                                             \"color\":cancel_color})\n",
    "                      )\n",
    "    fig_scatter.update_layout(\n",
    "        height=300,\n",
    "        margin=dict(\n",
    "            l=10,  # 左側の余白\n",
    "            r=10,  # 右側の余白\n",
    "            b=0,  # 下側の余白\n",
    "            t=10   # 上側の余白\n",
    "        ),\n",
    "        xaxis=dict(title=scatter_x),\n",
    "        yaxis=dict(title=scatter_y),\n",
    "        plot_bgcolor=plot_bg_color,  # グラフエリアの背景色\n",
    "        paper_bgcolor=back_color  # グラフ全体の背景色\n",
    "    )\n",
    "    return fig_scatter\n"
   ]
  },
  {
   "cell_type": "code",
   "execution_count": 20,
   "id": "6cae091d-8cc3-4bdd-b6f2-a0c71560599d",
   "metadata": {},
   "outputs": [],
   "source": [
    "#RightAreaのレイアウト\n",
    "RightArea = html.Div(\n",
    "    [\n",
    "        dbc.Row(#見出し\n",
    "            [\n",
    "                html.H5('Bar Plot', className='font-weight-bold')\n",
    "                ],\n",
    "            style={\"height\": \"4vh\",\n",
    "                   \"width\" : 738}, className='bg-black text-white'\n",
    "            \n",
    "            ),\n",
    "        dbc.Row(#ドロップダウン\n",
    "            [dcc.Dropdown(id='bar_chart_drop', multi=False, value='no_of_adults',\n",
    "                                 options=[{'label': x, 'value': x}\n",
    "                                          for x in bar_cols],\n",
    "                                 style={'width': 320,\n",
    "                                       \"margin-top\":1,\n",
    "                                       \"margin-left\":10}\n",
    "                                 )\n",
    "            ]\n",
    "            ),\n",
    "        dbc.Row(#棒グラフ\n",
    "            [\n",
    "                html.Div([\n",
    "                    dcc.Graph(id=\"bar_chart\",\n",
    "                              figure={})\n",
    "                    ])\n",
    "            ],\n",
    "            style={\"height\": \"36.2vh\",\n",
    "                   \"width\" : 700,\n",
    "                  \"margin-left\" : 0,\n",
    "                  \"margin-top\" : 2,\n",
    "                  \"margin-bottom\":0}\n",
    "            ),\n",
    "        dbc.Row(#見出し\n",
    "            [\n",
    "                html.H5('Distogram', className='font-weight-bold')\n",
    "                ],\n",
    "            style={\"height\": \"4vh\",\n",
    "                   \"width\" : 738,\n",
    "                  \"margin-top\":0}, className='bg-black text-white'\n",
    "            ),\n",
    "        dbc.Row(#ドロップダウン\n",
    "            [dcc.Dropdown(id='dist_chart_drop', multi=False, value='lead_time',\n",
    "                                 options=[{'label': x, 'value': x}\n",
    "                                          for x in hist_scatter_cols],\n",
    "                                 style={'width': 320,\n",
    "                                       \"margin-top\":1,\n",
    "                                       \"margin-left\":10}\n",
    "                                 )\n",
    "            ]\n",
    "            ),\n",
    "        dbc.Row(#Distgram\n",
    "            [\n",
    "                html.Div([\n",
    "                    dcc.Graph(id=\"dist_chart\",\n",
    "                              figure={})\n",
    "                    ])\n",
    "            ],\n",
    "            style={\"height\": \"39.83vh\",\n",
    "                   \"width\" : 700,\n",
    "                  \"margin-left\" : 0,\n",
    "                  \"margin-top\" : 2,\n",
    "                  \"margin-bottom\":0}\n",
    "            )\n",
    "        \n",
    "        ]\n",
    "    )\n",
    "\n",
    "#棒グラフ\n",
    "@app.callback(\n",
    "    Output('bar_chart', 'figure'),\n",
    "    Input('bar_chart_drop', 'value')\n",
    ")\n",
    "def update_graph(bar_col):\n",
    "    fig_bar = go.Figure()\n",
    "    fig_bar.add_trace(go.Bar(name='Not_Canceled',\n",
    "                        x=df.query('booking_status==\"Not_Canceled\"')[bar_col].value_counts().index,\n",
    "                        y=df.query('booking_status==\"Not_Canceled\"')[bar_col].value_counts(),\n",
    "                        marker={\"color\" : not_cancel_color}\n",
    "                        ))\n",
    "    fig_bar.add_trace(go.Bar(name='Canceled',\n",
    "                        x=df.query('booking_status==\"Canceled\"')[bar_col].value_counts().index,\n",
    "                        y=df.query('booking_status==\"Canceled\"')[bar_col].value_counts(),\n",
    "                        marker={\"color\" : cancel_color},\n",
    "                        ))\n",
    "\n",
    "    fig_bar.update_layout(\n",
    "        height=280,\n",
    "        margin=dict(\n",
    "            l=10,  # 左側の余白\n",
    "            r=10,  # 右側の余白\n",
    "            b=10,  # 下側の余白\n",
    "            t=10   # 上側の余白\n",
    "        ),\n",
    "        plot_bgcolor=plot_bg_color,  # グラフエリアの背景色\n",
    "        paper_bgcolor=back_color  # グラフ全体の背景色\n",
    "    )\n",
    "    return fig_bar\n",
    "\n",
    "#ヒストグラム\n",
    "@app.callback(Output('dist_chart', 'figure'),Input('dist_chart_drop', 'value')\n",
    ")\n",
    "def update_graph(dist_col):\n",
    "    num0 = df[df['booking_status'] == \"Canceled\"][dist_col].values.tolist()\n",
    "    num1 = df[df['booking_status'] == \"Not_Canceled\"][dist_col].values.tolist()\n",
    "    fig_dist = ff.create_distplot(hist_data=[num0, num1],\n",
    "                                  group_labels=[\"Canceled\", \"Not_Canceled\"],\n",
    "                                  show_hist=False,\n",
    "                                  colors=[cancel_color, not_cancel_color])\n",
    "    fig_dist.update_layout(height=340,margin=dict(\n",
    "            l=10,  # 左側の余白\n",
    "            r=10,  # 右側の余白\n",
    "            b=10,  # 下側の余白\n",
    "            t=10   # 上側の余白\n",
    "    ),\n",
    "        plot_bgcolor=plot_bg_color,  # グラフエリアの背景色\n",
    "        paper_bgcolor=back_color  # グラフ全体の背景色\n",
    "                          )\n",
    "    return fig_dist"
   ]
  },
  {
   "cell_type": "code",
   "execution_count": 21,
   "id": "9114bd56-213a-464b-9bba-72f7c9596b40",
   "metadata": {},
   "outputs": [],
   "source": [
    "#全体のレイアウト\n",
    "app.layout = dbc.Container(\n",
    "    [\n",
    "        dbc.Row(\n",
    "            [\n",
    "                dbc.Col(LeftArea, width=6, className='bg-white'),\n",
    "                dbc.Col(RightArea, width=6, className='bg-white')\n",
    "                ],\n",
    "            ),\n",
    "        ],\n",
    "    fluid=True\n",
    "    )"
   ]
  },
  {
   "cell_type": "code",
   "execution_count": 22,
   "id": "39877179-7690-4531-8ca6-2c57504c840b",
   "metadata": {},
   "outputs": [
    {
     "data": {
      "text/html": [
       "\n",
       "        <iframe\n",
       "            width=\"100%\"\n",
       "            height=\"650\"\n",
       "            src=\"http://127.0.0.1:8055/\"\n",
       "            frameborder=\"0\"\n",
       "            allowfullscreen\n",
       "            \n",
       "        ></iframe>\n",
       "        "
      ],
      "text/plain": [
       "<IPython.lib.display.IFrame at 0x7ffadc760820>"
      ]
     },
     "metadata": {},
     "output_type": "display_data"
    }
   ],
   "source": [
    "#サーバー実行\n",
    "if __name__ == \"__main__\":\n",
    "    app.run_server(port = 8055)"
   ]
  },
  {
   "cell_type": "markdown",
   "id": "9997938d-dc7c-493f-81b0-7ce03e46c37a",
   "metadata": {},
   "source": [
    "http://127.0.0.1:8055/"
   ]
  },
  {
   "cell_type": "code",
   "execution_count": null,
   "id": "ba862dfa-9a67-4cca-8f48-c8bcba65d53a",
   "metadata": {},
   "outputs": [],
   "source": []
  },
  {
   "cell_type": "code",
   "execution_count": null,
   "id": "2a1d912a-4668-4397-a409-81964aa4b115",
   "metadata": {},
   "outputs": [],
   "source": []
  },
  {
   "cell_type": "code",
   "execution_count": null,
   "id": "3893a5a6-2a63-4079-869d-b874f340d0f0",
   "metadata": {},
   "outputs": [],
   "source": []
  },
  {
   "cell_type": "code",
   "execution_count": null,
   "id": "1830a58e-671c-48de-9366-1407fb8cd4b6",
   "metadata": {},
   "outputs": [],
   "source": []
  },
  {
   "cell_type": "code",
   "execution_count": null,
   "id": "bacb2290-a383-4346-bfba-e9ee35a75e19",
   "metadata": {},
   "outputs": [],
   "source": []
  },
  {
   "cell_type": "code",
   "execution_count": null,
   "id": "4d7ddb3f-c24a-4f1a-a4f9-578db33e7d57",
   "metadata": {},
   "outputs": [],
   "source": []
  },
  {
   "cell_type": "code",
   "execution_count": null,
   "id": "ea75b6c9-467f-44b9-9dc6-2df1a4a5dc38",
   "metadata": {},
   "outputs": [],
   "source": []
  },
  {
   "cell_type": "code",
   "execution_count": null,
   "id": "d16444ab-0812-4491-a733-b920c7089e32",
   "metadata": {},
   "outputs": [],
   "source": []
  },
  {
   "cell_type": "code",
   "execution_count": null,
   "id": "dcc3d012-a1d8-4080-b533-33fef10aa8e7",
   "metadata": {},
   "outputs": [],
   "source": []
  },
  {
   "cell_type": "code",
   "execution_count": null,
   "id": "b4fd7b58-5d0c-4722-ab4e-b1e02439684d",
   "metadata": {},
   "outputs": [],
   "source": []
  },
  {
   "cell_type": "code",
   "execution_count": null,
   "id": "c9a4c46c-50b4-4413-9f42-e2814daab6a5",
   "metadata": {},
   "outputs": [],
   "source": []
  },
  {
   "cell_type": "code",
   "execution_count": null,
   "id": "7b678cc4-f6a5-4099-940e-502330d18a82",
   "metadata": {},
   "outputs": [],
   "source": []
  },
  {
   "cell_type": "code",
   "execution_count": null,
   "id": "13044176-a880-466b-9e36-92cc96185361",
   "metadata": {},
   "outputs": [],
   "source": []
  },
  {
   "cell_type": "code",
   "execution_count": null,
   "id": "b1734d02-233f-4a30-83a3-08eeb9a0d483",
   "metadata": {},
   "outputs": [],
   "source": []
  },
  {
   "cell_type": "code",
   "execution_count": null,
   "id": "36a551a4-aac2-4288-87a9-e32d6c476545",
   "metadata": {},
   "outputs": [],
   "source": []
  },
  {
   "cell_type": "code",
   "execution_count": null,
   "id": "d1d7b8e4-2f25-4b2b-9e78-3d1252e94878",
   "metadata": {},
   "outputs": [],
   "source": []
  },
  {
   "cell_type": "code",
   "execution_count": null,
   "id": "b6280e8f-e11d-4ff5-b0a1-bb7cf1adbaed",
   "metadata": {},
   "outputs": [],
   "source": []
  }
 ],
 "metadata": {
  "kernelspec": {
   "display_name": "Python 3 (ipykernel)",
   "language": "python",
   "name": "python3"
  },
  "language_info": {
   "codemirror_mode": {
    "name": "ipython",
    "version": 3
   },
   "file_extension": ".py",
   "mimetype": "text/x-python",
   "name": "python",
   "nbconvert_exporter": "python",
   "pygments_lexer": "ipython3",
   "version": "3.10.6"
  }
 },
 "nbformat": 4,
 "nbformat_minor": 5
}
