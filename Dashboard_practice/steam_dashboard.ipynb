{
 "cells": [
  {
   "cell_type": "markdown",
   "id": "1531bf1a-7f03-4e19-8db7-a0a173cc0fae",
   "metadata": {},
   "source": [
    "# データ"
   ]
  },
  {
   "cell_type": "code",
   "execution_count": 14,
   "id": "8ccb02ac-9465-4909-9c85-120f09c1684f",
   "metadata": {},
   "outputs": [],
   "source": [
    "import pandas as pd\n",
    "import numpy as np\n",
    "\n",
    "import plotly.graph_objects as go\n",
    "from jupyter_dash import JupyterDash\n",
    "from dash import html\n",
    "from dash import dcc\n",
    "from dash.dependencies import Input, Output"
   ]
  },
  {
   "cell_type": "code",
   "execution_count": 15,
   "id": "821365ff-547e-453b-a9e4-2e0bfe46744a",
   "metadata": {},
   "outputs": [
    {
     "data": {
      "text/html": [
       "<div>\n",
       "<style scoped>\n",
       "    .dataframe tbody tr th:only-of-type {\n",
       "        vertical-align: middle;\n",
       "    }\n",
       "\n",
       "    .dataframe tbody tr th {\n",
       "        vertical-align: top;\n",
       "    }\n",
       "\n",
       "    .dataframe thead th {\n",
       "        text-align: right;\n",
       "    }\n",
       "</style>\n",
       "<table border=\"1\" class=\"dataframe\">\n",
       "  <thead>\n",
       "    <tr style=\"text-align: right;\">\n",
       "      <th></th>\n",
       "      <th>gamename</th>\n",
       "      <th>year</th>\n",
       "      <th>month</th>\n",
       "      <th>avg</th>\n",
       "      <th>gain</th>\n",
       "      <th>peak</th>\n",
       "      <th>avg_peak_perc</th>\n",
       "    </tr>\n",
       "  </thead>\n",
       "  <tbody>\n",
       "    <tr>\n",
       "      <th>0</th>\n",
       "      <td>Counter-Strike: Global Offensive</td>\n",
       "      <td>2021</td>\n",
       "      <td>February</td>\n",
       "      <td>741013.24</td>\n",
       "      <td>-2196.42</td>\n",
       "      <td>1123485</td>\n",
       "      <td>65.9567%</td>\n",
       "    </tr>\n",
       "    <tr>\n",
       "      <th>1</th>\n",
       "      <td>Counter-Strike: Global Offensive</td>\n",
       "      <td>2021</td>\n",
       "      <td>January</td>\n",
       "      <td>743209.66</td>\n",
       "      <td>25405.91</td>\n",
       "      <td>1124553</td>\n",
       "      <td>66.0893%</td>\n",
       "    </tr>\n",
       "    <tr>\n",
       "      <th>2</th>\n",
       "      <td>Counter-Strike: Global Offensive</td>\n",
       "      <td>2020</td>\n",
       "      <td>December</td>\n",
       "      <td>717803.75</td>\n",
       "      <td>49049.17</td>\n",
       "      <td>1164396</td>\n",
       "      <td>61.646%</td>\n",
       "    </tr>\n",
       "  </tbody>\n",
       "</table>\n",
       "</div>"
      ],
      "text/plain": [
       "                           gamename  year      month        avg      gain   \n",
       "0  Counter-Strike: Global Offensive  2021  February   741013.24  -2196.42  \\\n",
       "1  Counter-Strike: Global Offensive  2021   January   743209.66  25405.91   \n",
       "2  Counter-Strike: Global Offensive  2020  December   717803.75  49049.17   \n",
       "\n",
       "      peak avg_peak_perc  \n",
       "0  1123485      65.9567%  \n",
       "1  1124553      66.0893%  \n",
       "2  1164396       61.646%  "
      ]
     },
     "execution_count": 15,
     "metadata": {},
     "output_type": "execute_result"
    }
   ],
   "source": [
    "#データ取得\n",
    "steam = pd.read_csv(\"./data/SteamCharts.csv\", encoding='unicode_escape')\n",
    "steam.head(3)"
   ]
  },
  {
   "cell_type": "markdown",
   "id": "7ac4d5af-97f1-4574-99ec-1ad61d79a708",
   "metadata": {},
   "source": [
    "### 全期間の総販売数ランキング"
   ]
  },
  {
   "cell_type": "code",
   "execution_count": 29,
   "id": "57f9442a-3c02-4833-859d-a96f7a26dadf",
   "metadata": {},
   "outputs": [
    {
     "data": {
      "application/vnd.plotly.v1+json": {
       "config": {
        "plotlyServerURL": "https://plot.ly"
       },
       "data": [
        {
         "hovertemplate": "販売数: %{y:.1f}<extra></extra>",
         "type": "bar",
         "x": [
          "Dota 2",
          "Counter-Strike: Global Offensive",
          "PLAYERUNKNOWN'S BATTLEGROUNDS",
          "Team Fortress 2",
          "Grand Theft Auto V",
          "Tom Clancy's Rainbow Six Siege",
          "Warframe",
          "ARK: Survival Evolved",
          "Sid Meier's Civilization V",
          "Rust"
         ],
         "y": [
          47188121.38,
          32099063.24,
          23137194.31,
          5500066.3,
          4545350.17,
          3322836.28,
          3214114.11,
          2950449.86,
          2899576.23,
          2868306.21
         ]
        }
       ],
       "layout": {
        "autosize": true,
        "template": {
         "data": {
          "bar": [
           {
            "error_x": {
             "color": "#2a3f5f"
            },
            "error_y": {
             "color": "#2a3f5f"
            },
            "marker": {
             "line": {
              "color": "#E5ECF6",
              "width": 0.5
             },
             "pattern": {
              "fillmode": "overlay",
              "size": 10,
              "solidity": 0.2
             }
            },
            "type": "bar"
           }
          ],
          "barpolar": [
           {
            "marker": {
             "line": {
              "color": "#E5ECF6",
              "width": 0.5
             },
             "pattern": {
              "fillmode": "overlay",
              "size": 10,
              "solidity": 0.2
             }
            },
            "type": "barpolar"
           }
          ],
          "carpet": [
           {
            "aaxis": {
             "endlinecolor": "#2a3f5f",
             "gridcolor": "white",
             "linecolor": "white",
             "minorgridcolor": "white",
             "startlinecolor": "#2a3f5f"
            },
            "baxis": {
             "endlinecolor": "#2a3f5f",
             "gridcolor": "white",
             "linecolor": "white",
             "minorgridcolor": "white",
             "startlinecolor": "#2a3f5f"
            },
            "type": "carpet"
           }
          ],
          "choropleth": [
           {
            "colorbar": {
             "outlinewidth": 0,
             "ticks": ""
            },
            "type": "choropleth"
           }
          ],
          "contour": [
           {
            "colorbar": {
             "outlinewidth": 0,
             "ticks": ""
            },
            "colorscale": [
             [
              0,
              "#0d0887"
             ],
             [
              0.1111111111111111,
              "#46039f"
             ],
             [
              0.2222222222222222,
              "#7201a8"
             ],
             [
              0.3333333333333333,
              "#9c179e"
             ],
             [
              0.4444444444444444,
              "#bd3786"
             ],
             [
              0.5555555555555556,
              "#d8576b"
             ],
             [
              0.6666666666666666,
              "#ed7953"
             ],
             [
              0.7777777777777778,
              "#fb9f3a"
             ],
             [
              0.8888888888888888,
              "#fdca26"
             ],
             [
              1,
              "#f0f921"
             ]
            ],
            "type": "contour"
           }
          ],
          "contourcarpet": [
           {
            "colorbar": {
             "outlinewidth": 0,
             "ticks": ""
            },
            "type": "contourcarpet"
           }
          ],
          "heatmap": [
           {
            "colorbar": {
             "outlinewidth": 0,
             "ticks": ""
            },
            "colorscale": [
             [
              0,
              "#0d0887"
             ],
             [
              0.1111111111111111,
              "#46039f"
             ],
             [
              0.2222222222222222,
              "#7201a8"
             ],
             [
              0.3333333333333333,
              "#9c179e"
             ],
             [
              0.4444444444444444,
              "#bd3786"
             ],
             [
              0.5555555555555556,
              "#d8576b"
             ],
             [
              0.6666666666666666,
              "#ed7953"
             ],
             [
              0.7777777777777778,
              "#fb9f3a"
             ],
             [
              0.8888888888888888,
              "#fdca26"
             ],
             [
              1,
              "#f0f921"
             ]
            ],
            "type": "heatmap"
           }
          ],
          "heatmapgl": [
           {
            "colorbar": {
             "outlinewidth": 0,
             "ticks": ""
            },
            "colorscale": [
             [
              0,
              "#0d0887"
             ],
             [
              0.1111111111111111,
              "#46039f"
             ],
             [
              0.2222222222222222,
              "#7201a8"
             ],
             [
              0.3333333333333333,
              "#9c179e"
             ],
             [
              0.4444444444444444,
              "#bd3786"
             ],
             [
              0.5555555555555556,
              "#d8576b"
             ],
             [
              0.6666666666666666,
              "#ed7953"
             ],
             [
              0.7777777777777778,
              "#fb9f3a"
             ],
             [
              0.8888888888888888,
              "#fdca26"
             ],
             [
              1,
              "#f0f921"
             ]
            ],
            "type": "heatmapgl"
           }
          ],
          "histogram": [
           {
            "marker": {
             "pattern": {
              "fillmode": "overlay",
              "size": 10,
              "solidity": 0.2
             }
            },
            "type": "histogram"
           }
          ],
          "histogram2d": [
           {
            "colorbar": {
             "outlinewidth": 0,
             "ticks": ""
            },
            "colorscale": [
             [
              0,
              "#0d0887"
             ],
             [
              0.1111111111111111,
              "#46039f"
             ],
             [
              0.2222222222222222,
              "#7201a8"
             ],
             [
              0.3333333333333333,
              "#9c179e"
             ],
             [
              0.4444444444444444,
              "#bd3786"
             ],
             [
              0.5555555555555556,
              "#d8576b"
             ],
             [
              0.6666666666666666,
              "#ed7953"
             ],
             [
              0.7777777777777778,
              "#fb9f3a"
             ],
             [
              0.8888888888888888,
              "#fdca26"
             ],
             [
              1,
              "#f0f921"
             ]
            ],
            "type": "histogram2d"
           }
          ],
          "histogram2dcontour": [
           {
            "colorbar": {
             "outlinewidth": 0,
             "ticks": ""
            },
            "colorscale": [
             [
              0,
              "#0d0887"
             ],
             [
              0.1111111111111111,
              "#46039f"
             ],
             [
              0.2222222222222222,
              "#7201a8"
             ],
             [
              0.3333333333333333,
              "#9c179e"
             ],
             [
              0.4444444444444444,
              "#bd3786"
             ],
             [
              0.5555555555555556,
              "#d8576b"
             ],
             [
              0.6666666666666666,
              "#ed7953"
             ],
             [
              0.7777777777777778,
              "#fb9f3a"
             ],
             [
              0.8888888888888888,
              "#fdca26"
             ],
             [
              1,
              "#f0f921"
             ]
            ],
            "type": "histogram2dcontour"
           }
          ],
          "mesh3d": [
           {
            "colorbar": {
             "outlinewidth": 0,
             "ticks": ""
            },
            "type": "mesh3d"
           }
          ],
          "parcoords": [
           {
            "line": {
             "colorbar": {
              "outlinewidth": 0,
              "ticks": ""
             }
            },
            "type": "parcoords"
           }
          ],
          "pie": [
           {
            "automargin": true,
            "type": "pie"
           }
          ],
          "scatter": [
           {
            "fillpattern": {
             "fillmode": "overlay",
             "size": 10,
             "solidity": 0.2
            },
            "type": "scatter"
           }
          ],
          "scatter3d": [
           {
            "line": {
             "colorbar": {
              "outlinewidth": 0,
              "ticks": ""
             }
            },
            "marker": {
             "colorbar": {
              "outlinewidth": 0,
              "ticks": ""
             }
            },
            "type": "scatter3d"
           }
          ],
          "scattercarpet": [
           {
            "marker": {
             "colorbar": {
              "outlinewidth": 0,
              "ticks": ""
             }
            },
            "type": "scattercarpet"
           }
          ],
          "scattergeo": [
           {
            "marker": {
             "colorbar": {
              "outlinewidth": 0,
              "ticks": ""
             }
            },
            "type": "scattergeo"
           }
          ],
          "scattergl": [
           {
            "marker": {
             "colorbar": {
              "outlinewidth": 0,
              "ticks": ""
             }
            },
            "type": "scattergl"
           }
          ],
          "scattermapbox": [
           {
            "marker": {
             "colorbar": {
              "outlinewidth": 0,
              "ticks": ""
             }
            },
            "type": "scattermapbox"
           }
          ],
          "scatterpolar": [
           {
            "marker": {
             "colorbar": {
              "outlinewidth": 0,
              "ticks": ""
             }
            },
            "type": "scatterpolar"
           }
          ],
          "scatterpolargl": [
           {
            "marker": {
             "colorbar": {
              "outlinewidth": 0,
              "ticks": ""
             }
            },
            "type": "scatterpolargl"
           }
          ],
          "scatterternary": [
           {
            "marker": {
             "colorbar": {
              "outlinewidth": 0,
              "ticks": ""
             }
            },
            "type": "scatterternary"
           }
          ],
          "surface": [
           {
            "colorbar": {
             "outlinewidth": 0,
             "ticks": ""
            },
            "colorscale": [
             [
              0,
              "#0d0887"
             ],
             [
              0.1111111111111111,
              "#46039f"
             ],
             [
              0.2222222222222222,
              "#7201a8"
             ],
             [
              0.3333333333333333,
              "#9c179e"
             ],
             [
              0.4444444444444444,
              "#bd3786"
             ],
             [
              0.5555555555555556,
              "#d8576b"
             ],
             [
              0.6666666666666666,
              "#ed7953"
             ],
             [
              0.7777777777777778,
              "#fb9f3a"
             ],
             [
              0.8888888888888888,
              "#fdca26"
             ],
             [
              1,
              "#f0f921"
             ]
            ],
            "type": "surface"
           }
          ],
          "table": [
           {
            "cells": {
             "fill": {
              "color": "#EBF0F8"
             },
             "line": {
              "color": "white"
             }
            },
            "header": {
             "fill": {
              "color": "#C8D4E3"
             },
             "line": {
              "color": "white"
             }
            },
            "type": "table"
           }
          ]
         },
         "layout": {
          "annotationdefaults": {
           "arrowcolor": "#2a3f5f",
           "arrowhead": 0,
           "arrowwidth": 1
          },
          "autotypenumbers": "strict",
          "coloraxis": {
           "colorbar": {
            "outlinewidth": 0,
            "ticks": ""
           }
          },
          "colorscale": {
           "diverging": [
            [
             0,
             "#8e0152"
            ],
            [
             0.1,
             "#c51b7d"
            ],
            [
             0.2,
             "#de77ae"
            ],
            [
             0.3,
             "#f1b6da"
            ],
            [
             0.4,
             "#fde0ef"
            ],
            [
             0.5,
             "#f7f7f7"
            ],
            [
             0.6,
             "#e6f5d0"
            ],
            [
             0.7,
             "#b8e186"
            ],
            [
             0.8,
             "#7fbc41"
            ],
            [
             0.9,
             "#4d9221"
            ],
            [
             1,
             "#276419"
            ]
           ],
           "sequential": [
            [
             0,
             "#0d0887"
            ],
            [
             0.1111111111111111,
             "#46039f"
            ],
            [
             0.2222222222222222,
             "#7201a8"
            ],
            [
             0.3333333333333333,
             "#9c179e"
            ],
            [
             0.4444444444444444,
             "#bd3786"
            ],
            [
             0.5555555555555556,
             "#d8576b"
            ],
            [
             0.6666666666666666,
             "#ed7953"
            ],
            [
             0.7777777777777778,
             "#fb9f3a"
            ],
            [
             0.8888888888888888,
             "#fdca26"
            ],
            [
             1,
             "#f0f921"
            ]
           ],
           "sequentialminus": [
            [
             0,
             "#0d0887"
            ],
            [
             0.1111111111111111,
             "#46039f"
            ],
            [
             0.2222222222222222,
             "#7201a8"
            ],
            [
             0.3333333333333333,
             "#9c179e"
            ],
            [
             0.4444444444444444,
             "#bd3786"
            ],
            [
             0.5555555555555556,
             "#d8576b"
            ],
            [
             0.6666666666666666,
             "#ed7953"
            ],
            [
             0.7777777777777778,
             "#fb9f3a"
            ],
            [
             0.8888888888888888,
             "#fdca26"
            ],
            [
             1,
             "#f0f921"
            ]
           ]
          },
          "colorway": [
           "#636efa",
           "#EF553B",
           "#00cc96",
           "#ab63fa",
           "#FFA15A",
           "#19d3f3",
           "#FF6692",
           "#B6E880",
           "#FF97FF",
           "#FECB52"
          ],
          "font": {
           "color": "#2a3f5f"
          },
          "geo": {
           "bgcolor": "white",
           "lakecolor": "white",
           "landcolor": "#E5ECF6",
           "showlakes": true,
           "showland": true,
           "subunitcolor": "white"
          },
          "hoverlabel": {
           "align": "left"
          },
          "hovermode": "closest",
          "mapbox": {
           "style": "light"
          },
          "paper_bgcolor": "white",
          "plot_bgcolor": "#E5ECF6",
          "polar": {
           "angularaxis": {
            "gridcolor": "white",
            "linecolor": "white",
            "ticks": ""
           },
           "bgcolor": "#E5ECF6",
           "radialaxis": {
            "gridcolor": "white",
            "linecolor": "white",
            "ticks": ""
           }
          },
          "scene": {
           "xaxis": {
            "backgroundcolor": "#E5ECF6",
            "gridcolor": "white",
            "gridwidth": 2,
            "linecolor": "white",
            "showbackground": true,
            "ticks": "",
            "zerolinecolor": "white"
           },
           "yaxis": {
            "backgroundcolor": "#E5ECF6",
            "gridcolor": "white",
            "gridwidth": 2,
            "linecolor": "white",
            "showbackground": true,
            "ticks": "",
            "zerolinecolor": "white"
           },
           "zaxis": {
            "backgroundcolor": "#E5ECF6",
            "gridcolor": "white",
            "gridwidth": 2,
            "linecolor": "white",
            "showbackground": true,
            "ticks": "",
            "zerolinecolor": "white"
           }
          },
          "shapedefaults": {
           "line": {
            "color": "#2a3f5f"
           }
          },
          "ternary": {
           "aaxis": {
            "gridcolor": "white",
            "linecolor": "white",
            "ticks": ""
           },
           "baxis": {
            "gridcolor": "white",
            "linecolor": "white",
            "ticks": ""
           },
           "bgcolor": "#E5ECF6",
           "caxis": {
            "gridcolor": "white",
            "linecolor": "white",
            "ticks": ""
           }
          },
          "title": {
           "x": 0.05
          },
          "xaxis": {
           "automargin": true,
           "gridcolor": "white",
           "linecolor": "white",
           "ticks": "",
           "title": {
            "standoff": 15
           },
           "zerolinecolor": "white",
           "zerolinewidth": 2
          },
          "yaxis": {
           "automargin": true,
           "gridcolor": "white",
           "linecolor": "white",
           "ticks": "",
           "title": {
            "standoff": 15
           },
           "zerolinecolor": "white",
           "zerolinewidth": 2
          }
         }
        },
        "xaxis": {
         "autorange": true,
         "range": [
          -0.5,
          9.5
         ],
         "type": "category"
        },
        "yaxis": {
         "autorange": true,
         "range": [
          0,
          49671706.715789475
         ],
         "type": "linear"
        }
       }
      },
      "text/html": [
       "<div>                            <div id=\"c8c2bc50-66c7-432e-b76d-8e40ee06c0e5\" class=\"plotly-graph-div\" style=\"height:525px; width:100%;\"></div>            <script type=\"text/javascript\">                require([\"plotly\"], function(Plotly) {                    window.PLOTLYENV=window.PLOTLYENV || {};                                    if (document.getElementById(\"c8c2bc50-66c7-432e-b76d-8e40ee06c0e5\")) {                    Plotly.newPlot(                        \"c8c2bc50-66c7-432e-b76d-8e40ee06c0e5\",                        [{\"hovertemplate\":\"\\u8ca9\\u58f2\\u6570: %{y:.1f}\\u003cextra\\u003e\\u003c\\u002fextra\\u003e\",\"x\":[\"Dota 2\",\"Counter-Strike: Global Offensive\",\"PLAYERUNKNOWN'S BATTLEGROUNDS\",\"Team Fortress 2\",\"Grand Theft Auto V\",\"Tom Clancy's Rainbow Six Siege\",\"Warframe\",\"ARK: Survival Evolved\",\"Sid Meier's Civilization V\",\"Rust\"],\"y\":[47188121.38,32099063.24,23137194.31,5500066.3,4545350.17,3322836.28,3214114.11,2950449.86,2899576.23,2868306.21],\"type\":\"bar\"}],                        {\"template\":{\"data\":{\"histogram2dcontour\":[{\"type\":\"histogram2dcontour\",\"colorbar\":{\"outlinewidth\":0,\"ticks\":\"\"},\"colorscale\":[[0.0,\"#0d0887\"],[0.1111111111111111,\"#46039f\"],[0.2222222222222222,\"#7201a8\"],[0.3333333333333333,\"#9c179e\"],[0.4444444444444444,\"#bd3786\"],[0.5555555555555556,\"#d8576b\"],[0.6666666666666666,\"#ed7953\"],[0.7777777777777778,\"#fb9f3a\"],[0.8888888888888888,\"#fdca26\"],[1.0,\"#f0f921\"]]}],\"choropleth\":[{\"type\":\"choropleth\",\"colorbar\":{\"outlinewidth\":0,\"ticks\":\"\"}}],\"histogram2d\":[{\"type\":\"histogram2d\",\"colorbar\":{\"outlinewidth\":0,\"ticks\":\"\"},\"colorscale\":[[0.0,\"#0d0887\"],[0.1111111111111111,\"#46039f\"],[0.2222222222222222,\"#7201a8\"],[0.3333333333333333,\"#9c179e\"],[0.4444444444444444,\"#bd3786\"],[0.5555555555555556,\"#d8576b\"],[0.6666666666666666,\"#ed7953\"],[0.7777777777777778,\"#fb9f3a\"],[0.8888888888888888,\"#fdca26\"],[1.0,\"#f0f921\"]]}],\"heatmap\":[{\"type\":\"heatmap\",\"colorbar\":{\"outlinewidth\":0,\"ticks\":\"\"},\"colorscale\":[[0.0,\"#0d0887\"],[0.1111111111111111,\"#46039f\"],[0.2222222222222222,\"#7201a8\"],[0.3333333333333333,\"#9c179e\"],[0.4444444444444444,\"#bd3786\"],[0.5555555555555556,\"#d8576b\"],[0.6666666666666666,\"#ed7953\"],[0.7777777777777778,\"#fb9f3a\"],[0.8888888888888888,\"#fdca26\"],[1.0,\"#f0f921\"]]}],\"heatmapgl\":[{\"type\":\"heatmapgl\",\"colorbar\":{\"outlinewidth\":0,\"ticks\":\"\"},\"colorscale\":[[0.0,\"#0d0887\"],[0.1111111111111111,\"#46039f\"],[0.2222222222222222,\"#7201a8\"],[0.3333333333333333,\"#9c179e\"],[0.4444444444444444,\"#bd3786\"],[0.5555555555555556,\"#d8576b\"],[0.6666666666666666,\"#ed7953\"],[0.7777777777777778,\"#fb9f3a\"],[0.8888888888888888,\"#fdca26\"],[1.0,\"#f0f921\"]]}],\"contourcarpet\":[{\"type\":\"contourcarpet\",\"colorbar\":{\"outlinewidth\":0,\"ticks\":\"\"}}],\"contour\":[{\"type\":\"contour\",\"colorbar\":{\"outlinewidth\":0,\"ticks\":\"\"},\"colorscale\":[[0.0,\"#0d0887\"],[0.1111111111111111,\"#46039f\"],[0.2222222222222222,\"#7201a8\"],[0.3333333333333333,\"#9c179e\"],[0.4444444444444444,\"#bd3786\"],[0.5555555555555556,\"#d8576b\"],[0.6666666666666666,\"#ed7953\"],[0.7777777777777778,\"#fb9f3a\"],[0.8888888888888888,\"#fdca26\"],[1.0,\"#f0f921\"]]}],\"surface\":[{\"type\":\"surface\",\"colorbar\":{\"outlinewidth\":0,\"ticks\":\"\"},\"colorscale\":[[0.0,\"#0d0887\"],[0.1111111111111111,\"#46039f\"],[0.2222222222222222,\"#7201a8\"],[0.3333333333333333,\"#9c179e\"],[0.4444444444444444,\"#bd3786\"],[0.5555555555555556,\"#d8576b\"],[0.6666666666666666,\"#ed7953\"],[0.7777777777777778,\"#fb9f3a\"],[0.8888888888888888,\"#fdca26\"],[1.0,\"#f0f921\"]]}],\"mesh3d\":[{\"type\":\"mesh3d\",\"colorbar\":{\"outlinewidth\":0,\"ticks\":\"\"}}],\"scatter\":[{\"fillpattern\":{\"fillmode\":\"overlay\",\"size\":10,\"solidity\":0.2},\"type\":\"scatter\"}],\"parcoords\":[{\"type\":\"parcoords\",\"line\":{\"colorbar\":{\"outlinewidth\":0,\"ticks\":\"\"}}}],\"scatterpolargl\":[{\"type\":\"scatterpolargl\",\"marker\":{\"colorbar\":{\"outlinewidth\":0,\"ticks\":\"\"}}}],\"bar\":[{\"error_x\":{\"color\":\"#2a3f5f\"},\"error_y\":{\"color\":\"#2a3f5f\"},\"marker\":{\"line\":{\"color\":\"#E5ECF6\",\"width\":0.5},\"pattern\":{\"fillmode\":\"overlay\",\"size\":10,\"solidity\":0.2}},\"type\":\"bar\"}],\"scattergeo\":[{\"type\":\"scattergeo\",\"marker\":{\"colorbar\":{\"outlinewidth\":0,\"ticks\":\"\"}}}],\"scatterpolar\":[{\"type\":\"scatterpolar\",\"marker\":{\"colorbar\":{\"outlinewidth\":0,\"ticks\":\"\"}}}],\"histogram\":[{\"marker\":{\"pattern\":{\"fillmode\":\"overlay\",\"size\":10,\"solidity\":0.2}},\"type\":\"histogram\"}],\"scattergl\":[{\"type\":\"scattergl\",\"marker\":{\"colorbar\":{\"outlinewidth\":0,\"ticks\":\"\"}}}],\"scatter3d\":[{\"type\":\"scatter3d\",\"line\":{\"colorbar\":{\"outlinewidth\":0,\"ticks\":\"\"}},\"marker\":{\"colorbar\":{\"outlinewidth\":0,\"ticks\":\"\"}}}],\"scattermapbox\":[{\"type\":\"scattermapbox\",\"marker\":{\"colorbar\":{\"outlinewidth\":0,\"ticks\":\"\"}}}],\"scatterternary\":[{\"type\":\"scatterternary\",\"marker\":{\"colorbar\":{\"outlinewidth\":0,\"ticks\":\"\"}}}],\"scattercarpet\":[{\"type\":\"scattercarpet\",\"marker\":{\"colorbar\":{\"outlinewidth\":0,\"ticks\":\"\"}}}],\"carpet\":[{\"aaxis\":{\"endlinecolor\":\"#2a3f5f\",\"gridcolor\":\"white\",\"linecolor\":\"white\",\"minorgridcolor\":\"white\",\"startlinecolor\":\"#2a3f5f\"},\"baxis\":{\"endlinecolor\":\"#2a3f5f\",\"gridcolor\":\"white\",\"linecolor\":\"white\",\"minorgridcolor\":\"white\",\"startlinecolor\":\"#2a3f5f\"},\"type\":\"carpet\"}],\"table\":[{\"cells\":{\"fill\":{\"color\":\"#EBF0F8\"},\"line\":{\"color\":\"white\"}},\"header\":{\"fill\":{\"color\":\"#C8D4E3\"},\"line\":{\"color\":\"white\"}},\"type\":\"table\"}],\"barpolar\":[{\"marker\":{\"line\":{\"color\":\"#E5ECF6\",\"width\":0.5},\"pattern\":{\"fillmode\":\"overlay\",\"size\":10,\"solidity\":0.2}},\"type\":\"barpolar\"}],\"pie\":[{\"automargin\":true,\"type\":\"pie\"}]},\"layout\":{\"autotypenumbers\":\"strict\",\"colorway\":[\"#636efa\",\"#EF553B\",\"#00cc96\",\"#ab63fa\",\"#FFA15A\",\"#19d3f3\",\"#FF6692\",\"#B6E880\",\"#FF97FF\",\"#FECB52\"],\"font\":{\"color\":\"#2a3f5f\"},\"hovermode\":\"closest\",\"hoverlabel\":{\"align\":\"left\"},\"paper_bgcolor\":\"white\",\"plot_bgcolor\":\"#E5ECF6\",\"polar\":{\"bgcolor\":\"#E5ECF6\",\"angularaxis\":{\"gridcolor\":\"white\",\"linecolor\":\"white\",\"ticks\":\"\"},\"radialaxis\":{\"gridcolor\":\"white\",\"linecolor\":\"white\",\"ticks\":\"\"}},\"ternary\":{\"bgcolor\":\"#E5ECF6\",\"aaxis\":{\"gridcolor\":\"white\",\"linecolor\":\"white\",\"ticks\":\"\"},\"baxis\":{\"gridcolor\":\"white\",\"linecolor\":\"white\",\"ticks\":\"\"},\"caxis\":{\"gridcolor\":\"white\",\"linecolor\":\"white\",\"ticks\":\"\"}},\"coloraxis\":{\"colorbar\":{\"outlinewidth\":0,\"ticks\":\"\"}},\"colorscale\":{\"sequential\":[[0.0,\"#0d0887\"],[0.1111111111111111,\"#46039f\"],[0.2222222222222222,\"#7201a8\"],[0.3333333333333333,\"#9c179e\"],[0.4444444444444444,\"#bd3786\"],[0.5555555555555556,\"#d8576b\"],[0.6666666666666666,\"#ed7953\"],[0.7777777777777778,\"#fb9f3a\"],[0.8888888888888888,\"#fdca26\"],[1.0,\"#f0f921\"]],\"sequentialminus\":[[0.0,\"#0d0887\"],[0.1111111111111111,\"#46039f\"],[0.2222222222222222,\"#7201a8\"],[0.3333333333333333,\"#9c179e\"],[0.4444444444444444,\"#bd3786\"],[0.5555555555555556,\"#d8576b\"],[0.6666666666666666,\"#ed7953\"],[0.7777777777777778,\"#fb9f3a\"],[0.8888888888888888,\"#fdca26\"],[1.0,\"#f0f921\"]],\"diverging\":[[0,\"#8e0152\"],[0.1,\"#c51b7d\"],[0.2,\"#de77ae\"],[0.3,\"#f1b6da\"],[0.4,\"#fde0ef\"],[0.5,\"#f7f7f7\"],[0.6,\"#e6f5d0\"],[0.7,\"#b8e186\"],[0.8,\"#7fbc41\"],[0.9,\"#4d9221\"],[1,\"#276419\"]]},\"xaxis\":{\"gridcolor\":\"white\",\"linecolor\":\"white\",\"ticks\":\"\",\"title\":{\"standoff\":15},\"zerolinecolor\":\"white\",\"automargin\":true,\"zerolinewidth\":2},\"yaxis\":{\"gridcolor\":\"white\",\"linecolor\":\"white\",\"ticks\":\"\",\"title\":{\"standoff\":15},\"zerolinecolor\":\"white\",\"automargin\":true,\"zerolinewidth\":2},\"scene\":{\"xaxis\":{\"backgroundcolor\":\"#E5ECF6\",\"gridcolor\":\"white\",\"linecolor\":\"white\",\"showbackground\":true,\"ticks\":\"\",\"zerolinecolor\":\"white\",\"gridwidth\":2},\"yaxis\":{\"backgroundcolor\":\"#E5ECF6\",\"gridcolor\":\"white\",\"linecolor\":\"white\",\"showbackground\":true,\"ticks\":\"\",\"zerolinecolor\":\"white\",\"gridwidth\":2},\"zaxis\":{\"backgroundcolor\":\"#E5ECF6\",\"gridcolor\":\"white\",\"linecolor\":\"white\",\"showbackground\":true,\"ticks\":\"\",\"zerolinecolor\":\"white\",\"gridwidth\":2}},\"shapedefaults\":{\"line\":{\"color\":\"#2a3f5f\"}},\"annotationdefaults\":{\"arrowcolor\":\"#2a3f5f\",\"arrowhead\":0,\"arrowwidth\":1},\"geo\":{\"bgcolor\":\"white\",\"landcolor\":\"#E5ECF6\",\"subunitcolor\":\"white\",\"showland\":true,\"showlakes\":true,\"lakecolor\":\"white\"},\"title\":{\"x\":0.05},\"mapbox\":{\"style\":\"light\"}}}},                        {\"responsive\": true}                    ).then(function(){\n",
       "                            \n",
       "var gd = document.getElementById('c8c2bc50-66c7-432e-b76d-8e40ee06c0e5');\n",
       "var x = new MutationObserver(function (mutations, observer) {{\n",
       "        var display = window.getComputedStyle(gd).display;\n",
       "        if (!display || display === 'none') {{\n",
       "            console.log([gd, 'removed!']);\n",
       "            Plotly.purge(gd);\n",
       "            observer.disconnect();\n",
       "        }}\n",
       "}});\n",
       "\n",
       "// Listen for the removal of the full notebook cells\n",
       "var notebookContainer = gd.closest('#notebook-container');\n",
       "if (notebookContainer) {{\n",
       "    x.observe(notebookContainer, {childList: true});\n",
       "}}\n",
       "\n",
       "// Listen for the clearing of the current output cell\n",
       "var outputEl = gd.closest('.output');\n",
       "if (outputEl) {{\n",
       "    x.observe(outputEl, {childList: true});\n",
       "}}\n",
       "\n",
       "                        })                };                });            </script>        </div>"
      ]
     },
     "metadata": {},
     "output_type": "display_data"
    }
   ],
   "source": [
    "#top10の取得と並び替え\n",
    "top10 = steam.groupby(\"gamename\")[[\"avg\"]].sum().sort_values(by=\"avg\", ascending=False)[:10]\n",
    "#グラフインスタンス作成\n",
    "fig_rank = go.Figure()\n",
    "fig_rank.add_trace(go.Bar(x=top10.index, y=top10.avg,\n",
    "            hovertemplate='販売数: %{y:.1f}<extra></extra>'#桁数指定\n",
    "        ))\n",
    "fig_rank.update_layout()"
   ]
  },
  {
   "cell_type": "code",
   "execution_count": 23,
   "id": "5c0566eb-8f10-42aa-b205-6fa0cd7f6b63",
   "metadata": {},
   "outputs": [
    {
     "name": "stdout",
     "output_type": "stream",
     "text": [
      "Help on method update_layout in module plotly.graph_objs._figure:\n",
      "\n",
      "update_layout(dict1=None, overwrite=False, **kwargs) -> 'Figure' method of plotly.graph_objs._figure.Figure instance\n",
      "    Update the properties of the figure's layout with a dict and/or with\n",
      "    keyword arguments.\n",
      "    \n",
      "    This recursively updates the structure of the original\n",
      "    layout with the values in the input dict / keyword arguments.\n",
      "    \n",
      "    Parameters\n",
      "    ----------\n",
      "    dict1 : dict\n",
      "        Dictionary of properties to be updated\n",
      "    overwrite: bool\n",
      "        If True, overwrite existing properties. If False, apply updates\n",
      "        to existing properties recursively, preserving existing\n",
      "        properties that are not specified in the update operation.\n",
      "    kwargs :\n",
      "        Keyword/value pair of properties to be updated\n",
      "    \n",
      "    Returns\n",
      "    -------\n",
      "    BaseFigure\n",
      "        The Figure object that the update_layout method was called on\n",
      "\n"
     ]
    }
   ],
   "source": [
    "help(fig_rank.update_layout)"
   ]
  },
  {
   "cell_type": "markdown",
   "id": "f34fdab7-b5b6-4085-93cf-4b7d337ef559",
   "metadata": {},
   "source": [
    "### 販売数の推移"
   ]
  },
  {
   "cell_type": "code",
   "execution_count": 17,
   "id": "74a7fa24-32e6-4532-b356-9e255d0aaa57",
   "metadata": {},
   "outputs": [
    {
     "data": {
      "text/html": [
       "<div>\n",
       "<style scoped>\n",
       "    .dataframe tbody tr th:only-of-type {\n",
       "        vertical-align: middle;\n",
       "    }\n",
       "\n",
       "    .dataframe tbody tr th {\n",
       "        vertical-align: top;\n",
       "    }\n",
       "\n",
       "    .dataframe thead th {\n",
       "        text-align: right;\n",
       "    }\n",
       "</style>\n",
       "<table border=\"1\" class=\"dataframe\">\n",
       "  <thead>\n",
       "    <tr style=\"text-align: right;\">\n",
       "      <th></th>\n",
       "      <th>gamename</th>\n",
       "      <th>year</th>\n",
       "      <th>month</th>\n",
       "      <th>avg</th>\n",
       "      <th>gain</th>\n",
       "      <th>peak</th>\n",
       "      <th>avg_peak_perc</th>\n",
       "      <th>year_month</th>\n",
       "    </tr>\n",
       "  </thead>\n",
       "  <tbody>\n",
       "    <tr>\n",
       "      <th>0</th>\n",
       "      <td>Counter-Strike: Global Offensive</td>\n",
       "      <td>2021</td>\n",
       "      <td>2</td>\n",
       "      <td>741013.24</td>\n",
       "      <td>-2196.42</td>\n",
       "      <td>1123485</td>\n",
       "      <td>65.9567%</td>\n",
       "      <td>2021-02-01</td>\n",
       "    </tr>\n",
       "    <tr>\n",
       "      <th>1</th>\n",
       "      <td>Counter-Strike: Global Offensive</td>\n",
       "      <td>2021</td>\n",
       "      <td>1</td>\n",
       "      <td>743209.66</td>\n",
       "      <td>25405.91</td>\n",
       "      <td>1124553</td>\n",
       "      <td>66.0893%</td>\n",
       "      <td>2021-01-01</td>\n",
       "    </tr>\n",
       "    <tr>\n",
       "      <th>2</th>\n",
       "      <td>Counter-Strike: Global Offensive</td>\n",
       "      <td>2020</td>\n",
       "      <td>12</td>\n",
       "      <td>717803.75</td>\n",
       "      <td>49049.17</td>\n",
       "      <td>1164396</td>\n",
       "      <td>61.646%</td>\n",
       "      <td>2020-12-01</td>\n",
       "    </tr>\n",
       "    <tr>\n",
       "      <th>3</th>\n",
       "      <td>Counter-Strike: Global Offensive</td>\n",
       "      <td>2020</td>\n",
       "      <td>11</td>\n",
       "      <td>668754.58</td>\n",
       "      <td>55087.89</td>\n",
       "      <td>1037464</td>\n",
       "      <td>64.4605%</td>\n",
       "      <td>2020-11-01</td>\n",
       "    </tr>\n",
       "    <tr>\n",
       "      <th>4</th>\n",
       "      <td>Counter-Strike: Global Offensive</td>\n",
       "      <td>2020</td>\n",
       "      <td>10</td>\n",
       "      <td>613666.69</td>\n",
       "      <td>6816.37</td>\n",
       "      <td>943876</td>\n",
       "      <td>65.0156%</td>\n",
       "      <td>2020-10-01</td>\n",
       "    </tr>\n",
       "  </tbody>\n",
       "</table>\n",
       "</div>"
      ],
      "text/plain": [
       "                           gamename  year  month        avg      gain   \n",
       "0  Counter-Strike: Global Offensive  2021      2  741013.24  -2196.42  \\\n",
       "1  Counter-Strike: Global Offensive  2021      1  743209.66  25405.91   \n",
       "2  Counter-Strike: Global Offensive  2020     12  717803.75  49049.17   \n",
       "3  Counter-Strike: Global Offensive  2020     11  668754.58  55087.89   \n",
       "4  Counter-Strike: Global Offensive  2020     10  613666.69   6816.37   \n",
       "\n",
       "      peak avg_peak_perc year_month  \n",
       "0  1123485      65.9567% 2021-02-01  \n",
       "1  1124553      66.0893% 2021-01-01  \n",
       "2  1164396       61.646% 2020-12-01  \n",
       "3  1037464      64.4605% 2020-11-01  \n",
       "4   943876      65.0156% 2020-10-01  "
      ]
     },
     "execution_count": 17,
     "metadata": {},
     "output_type": "execute_result"
    }
   ],
   "source": [
    "df2 = steam.copy() #dfをコピー\n",
    "#monthを変換\n",
    "df2.replace({'January ':1,\n",
    "             'February ':2,\n",
    "             'March ':3,\n",
    "             'April ':4,\n",
    "             'May ':5,\n",
    "             'June ':6,\n",
    "             'July ':7,\n",
    "             'August ':8,\n",
    "             'September ':9,\n",
    "             'October ':10,\n",
    "             'November ':11,\n",
    "             'December ':12\n",
    "            },\n",
    "           inplace=True)\n",
    "#新しい列を作成\n",
    "df2[\"year_month\"] = df2[\"year\"].astype(\"str\") + \"-\" + df2[\"month\"].astype(\"str\")\n",
    "#datetime型に変換\n",
    "df2[\"year_month\"] = pd.to_datetime(df2[\"year_month\"])\n",
    "df2.head()"
   ]
  },
  {
   "cell_type": "code",
   "execution_count": 18,
   "id": "58c9e089-231e-425e-a9d7-cc5356c73eed",
   "metadata": {},
   "outputs": [
    {
     "data": {
      "text/html": [
       "<div>\n",
       "<style scoped>\n",
       "    .dataframe tbody tr th:only-of-type {\n",
       "        vertical-align: middle;\n",
       "    }\n",
       "\n",
       "    .dataframe tbody tr th {\n",
       "        vertical-align: top;\n",
       "    }\n",
       "\n",
       "    .dataframe thead tr th {\n",
       "        text-align: left;\n",
       "    }\n",
       "\n",
       "    .dataframe thead tr:last-of-type th {\n",
       "        text-align: right;\n",
       "    }\n",
       "</style>\n",
       "<table border=\"1\" class=\"dataframe\">\n",
       "  <thead>\n",
       "    <tr>\n",
       "      <th></th>\n",
       "      <th colspan=\"21\" halign=\"left\">avg</th>\n",
       "    </tr>\n",
       "    <tr>\n",
       "      <th>gamename</th>\n",
       "      <th>100% Orange Juice</th>\n",
       "      <th>12 is Better Than 6</th>\n",
       "      <th>140</th>\n",
       "      <th>60 Seconds!</th>\n",
       "      <th>7 Days to Die</th>\n",
       "      <th>911 Operator</th>\n",
       "      <th>&lt;U+4E09&gt;&lt;U+56FD&gt;&lt;U+7FA4&gt;&lt;U+82F1&gt;&lt;U+4F20&gt;8 Heroes of the Three Kingdoms 8</th>\n",
       "      <th>&lt;U+4FE0&gt;&lt;U+4E4B&gt;&lt;U+9053&gt;(PathOfWuxia)</th>\n",
       "      <th>&lt;U+53E4&gt;&lt;U+5251&gt;&lt;U+5947&gt;&lt;U+8C2D&gt;&lt;U+4E09&gt;(Gujian3)</th>\n",
       "      <th>&lt;U+55DC&gt;&lt;U+8840&gt;&lt;U+5370&gt; Bloody Spell</th>\n",
       "      <th>...</th>\n",
       "      <th>Zup! 2</th>\n",
       "      <th>Zup! 3</th>\n",
       "      <th>eFootball PES 2020</th>\n",
       "      <th>eFootball PES 2021 SEASON UPDATE</th>\n",
       "      <th>ibb &amp; obb</th>\n",
       "      <th>klocki</th>\n",
       "      <th>rFactor 2</th>\n",
       "      <th>tModLoader</th>\n",
       "      <th>theHunter Classic</th>\n",
       "      <th>theHunter: Call of the Wild</th>\n",
       "    </tr>\n",
       "    <tr>\n",
       "      <th>year_month</th>\n",
       "      <th></th>\n",
       "      <th></th>\n",
       "      <th></th>\n",
       "      <th></th>\n",
       "      <th></th>\n",
       "      <th></th>\n",
       "      <th></th>\n",
       "      <th></th>\n",
       "      <th></th>\n",
       "      <th></th>\n",
       "      <th></th>\n",
       "      <th></th>\n",
       "      <th></th>\n",
       "      <th></th>\n",
       "      <th></th>\n",
       "      <th></th>\n",
       "      <th></th>\n",
       "      <th></th>\n",
       "      <th></th>\n",
       "      <th></th>\n",
       "      <th></th>\n",
       "    </tr>\n",
       "  </thead>\n",
       "  <tbody>\n",
       "    <tr>\n",
       "      <th>2020-10-01</th>\n",
       "      <td>292.45</td>\n",
       "      <td>4.35</td>\n",
       "      <td>2.74</td>\n",
       "      <td>25.95</td>\n",
       "      <td>17916.32</td>\n",
       "      <td>103.65</td>\n",
       "      <td>NaN</td>\n",
       "      <td>74.69</td>\n",
       "      <td>386.08</td>\n",
       "      <td>74.68</td>\n",
       "      <td>...</td>\n",
       "      <td>2.71</td>\n",
       "      <td>4.96</td>\n",
       "      <td>7178.05</td>\n",
       "      <td>7242.77</td>\n",
       "      <td>36.25</td>\n",
       "      <td>1.93</td>\n",
       "      <td>595.35</td>\n",
       "      <td>7465.01</td>\n",
       "      <td>999.71</td>\n",
       "      <td>2312.97</td>\n",
       "    </tr>\n",
       "    <tr>\n",
       "      <th>2020-11-01</th>\n",
       "      <td>285.03</td>\n",
       "      <td>5.24</td>\n",
       "      <td>2.98</td>\n",
       "      <td>24.12</td>\n",
       "      <td>23321.81</td>\n",
       "      <td>87.12</td>\n",
       "      <td>NaN</td>\n",
       "      <td>62.75</td>\n",
       "      <td>469.13</td>\n",
       "      <td>66.44</td>\n",
       "      <td>...</td>\n",
       "      <td>5.76</td>\n",
       "      <td>5.56</td>\n",
       "      <td>5246.06</td>\n",
       "      <td>6914.34</td>\n",
       "      <td>32.48</td>\n",
       "      <td>2.11</td>\n",
       "      <td>617.86</td>\n",
       "      <td>8730.23</td>\n",
       "      <td>1218.04</td>\n",
       "      <td>5131.64</td>\n",
       "    </tr>\n",
       "    <tr>\n",
       "      <th>2020-12-01</th>\n",
       "      <td>308.05</td>\n",
       "      <td>5.16</td>\n",
       "      <td>3.00</td>\n",
       "      <td>28.65</td>\n",
       "      <td>21441.63</td>\n",
       "      <td>134.94</td>\n",
       "      <td>NaN</td>\n",
       "      <td>50.52</td>\n",
       "      <td>422.11</td>\n",
       "      <td>42.08</td>\n",
       "      <td>...</td>\n",
       "      <td>8.12</td>\n",
       "      <td>8.42</td>\n",
       "      <td>3706.58</td>\n",
       "      <td>9554.17</td>\n",
       "      <td>38.84</td>\n",
       "      <td>2.78</td>\n",
       "      <td>605.51</td>\n",
       "      <td>9228.20</td>\n",
       "      <td>1322.99</td>\n",
       "      <td>5443.52</td>\n",
       "    </tr>\n",
       "    <tr>\n",
       "      <th>2021-01-01</th>\n",
       "      <td>303.89</td>\n",
       "      <td>5.94</td>\n",
       "      <td>2.98</td>\n",
       "      <td>33.29</td>\n",
       "      <td>25366.69</td>\n",
       "      <td>110.91</td>\n",
       "      <td>6851.13</td>\n",
       "      <td>174.46</td>\n",
       "      <td>458.75</td>\n",
       "      <td>483.89</td>\n",
       "      <td>...</td>\n",
       "      <td>5.28</td>\n",
       "      <td>5.83</td>\n",
       "      <td>2758.23</td>\n",
       "      <td>10662.93</td>\n",
       "      <td>41.45</td>\n",
       "      <td>2.60</td>\n",
       "      <td>567.28</td>\n",
       "      <td>11856.29</td>\n",
       "      <td>1281.06</td>\n",
       "      <td>5395.05</td>\n",
       "    </tr>\n",
       "    <tr>\n",
       "      <th>2021-02-01</th>\n",
       "      <td>278.67</td>\n",
       "      <td>5.24</td>\n",
       "      <td>2.39</td>\n",
       "      <td>36.25</td>\n",
       "      <td>20527.75</td>\n",
       "      <td>116.43</td>\n",
       "      <td>2124.30</td>\n",
       "      <td>2566.30</td>\n",
       "      <td>1021.99</td>\n",
       "      <td>756.20</td>\n",
       "      <td>...</td>\n",
       "      <td>7.23</td>\n",
       "      <td>5.77</td>\n",
       "      <td>2307.41</td>\n",
       "      <td>10321.87</td>\n",
       "      <td>68.38</td>\n",
       "      <td>2.99</td>\n",
       "      <td>533.62</td>\n",
       "      <td>13725.88</td>\n",
       "      <td>1286.52</td>\n",
       "      <td>3741.87</td>\n",
       "    </tr>\n",
       "  </tbody>\n",
       "</table>\n",
       "<p>5 rows × 1260 columns</p>\n",
       "</div>"
      ],
      "text/plain": [
       "                         avg                                         \n",
       "gamename   100% Orange Juice 12 is Better Than 6   140 60 Seconds!   \n",
       "year_month                                                           \n",
       "2020-10-01            292.45                4.35  2.74       25.95  \\\n",
       "2020-11-01            285.03                5.24  2.98       24.12   \n",
       "2020-12-01            308.05                5.16  3.00       28.65   \n",
       "2021-01-01            303.89                5.94  2.98       33.29   \n",
       "2021-02-01            278.67                5.24  2.39       36.25   \n",
       "\n",
       "                                        \n",
       "gamename   7 Days to Die 911 Operator   \n",
       "year_month                              \n",
       "2020-10-01      17916.32       103.65  \\\n",
       "2020-11-01      23321.81        87.12   \n",
       "2020-12-01      21441.63       134.94   \n",
       "2021-01-01      25366.69       110.91   \n",
       "2021-02-01      20527.75       116.43   \n",
       "\n",
       "                                                                                      \n",
       "gamename   <U+4E09><U+56FD><U+7FA4><U+82F1><U+4F20>8 Heroes of the Three Kingdoms 8   \n",
       "year_month                                                                            \n",
       "2020-10-01                                                NaN                        \\\n",
       "2020-11-01                                                NaN                         \n",
       "2020-12-01                                                NaN                         \n",
       "2021-01-01                                            6851.13                         \n",
       "2021-02-01                                            2124.30                         \n",
       "\n",
       "                                                   \n",
       "gamename   <U+4FE0><U+4E4B><U+9053>(PathOfWuxia)   \n",
       "year_month                                         \n",
       "2020-10-01                                 74.69  \\\n",
       "2020-11-01                                 62.75   \n",
       "2020-12-01                                 50.52   \n",
       "2021-01-01                                174.46   \n",
       "2021-02-01                               2566.30   \n",
       "\n",
       "                                                               \n",
       "gamename   <U+53E4><U+5251><U+5947><U+8C2D><U+4E09>(Gujian3)   \n",
       "year_month                                                     \n",
       "2020-10-01                                            386.08  \\\n",
       "2020-11-01                                            469.13   \n",
       "2020-12-01                                            422.11   \n",
       "2021-01-01                                            458.75   \n",
       "2021-02-01                                           1021.99   \n",
       "\n",
       "                                                  ...                 \n",
       "gamename   <U+55DC><U+8840><U+5370> Bloody Spell  ... Zup! 2 Zup! 3   \n",
       "year_month                                        ...                 \n",
       "2020-10-01                                 74.68  ...   2.71   4.96  \\\n",
       "2020-11-01                                 66.44  ...   5.76   5.56   \n",
       "2020-12-01                                 42.08  ...   8.12   8.42   \n",
       "2021-01-01                                483.89  ...   5.28   5.83   \n",
       "2021-02-01                                756.20  ...   7.23   5.77   \n",
       "\n",
       "                                                                           \n",
       "gamename   eFootball PES 2020 eFootball PES 2021 SEASON UPDATE ibb & obb   \n",
       "year_month                                                                 \n",
       "2020-10-01            7178.05                          7242.77     36.25  \\\n",
       "2020-11-01            5246.06                          6914.34     32.48   \n",
       "2020-12-01            3706.58                          9554.17     38.84   \n",
       "2021-01-01            2758.23                         10662.93     41.45   \n",
       "2021-02-01            2307.41                         10321.87     68.38   \n",
       "\n",
       "                                                           \n",
       "gamename   klocki rFactor 2 tModLoader theHunter Classic   \n",
       "year_month                                                 \n",
       "2020-10-01   1.93    595.35    7465.01            999.71  \\\n",
       "2020-11-01   2.11    617.86    8730.23           1218.04   \n",
       "2020-12-01   2.78    605.51    9228.20           1322.99   \n",
       "2021-01-01   2.60    567.28   11856.29           1281.06   \n",
       "2021-02-01   2.99    533.62   13725.88           1286.52   \n",
       "\n",
       "                                         \n",
       "gamename   theHunter: Call of the Wild  \n",
       "year_month                               \n",
       "2020-10-01                      2312.97  \n",
       "2020-11-01                      5131.64  \n",
       "2020-12-01                      5443.52  \n",
       "2021-01-01                      5395.05  \n",
       "2021-02-01                      3741.87  \n",
       "\n",
       "[5 rows x 1260 columns]"
      ]
     },
     "execution_count": 18,
     "metadata": {},
     "output_type": "execute_result"
    }
   ],
   "source": [
    "#データを横持ちに変換\n",
    "df = pd.pivot_table(df2[[\"gamename\", \"year_month\", \"avg\"]],\n",
    "                       index=[\"year_month\"],\n",
    "                       columns=[\"gamename\"])\n",
    "df.tail()"
   ]
  },
  {
   "cell_type": "markdown",
   "id": "c9657bcd-740b-4610-9510-2ba17cb6d3ef",
   "metadata": {},
   "source": [
    "# ダッシュボード"
   ]
  },
  {
   "cell_type": "code",
   "execution_count": 30,
   "id": "1a68b4a8-2ccc-4f58-9b94-1c31f874ab31",
   "metadata": {},
   "outputs": [
    {
     "name": "stdout",
     "output_type": "stream",
     "text": [
      "Dash is running on http://127.0.0.1:8050/\n",
      "\n",
      "Dash app running on http://127.0.0.1:8050/\n"
     ]
    }
   ],
   "source": [
    "#CSS設定\n",
    "external_stylesheets = ['https://codepen.io/chriddyp/pen/bWLwgP.css']\n",
    "# dashアプリケーションの初期化\n",
    "app = JupyterDash(__name__, external_stylesheets=external_stylesheets)\n",
    "# サーバー\n",
    "server = app.server\n",
    "\n",
    "#Input, Output設定\n",
    "@app.callback(\n",
    "  Output(component_id='stock_chart', component_property='children'),\n",
    "  Input(component_id='stock_chart_dropdown', component_property='value')\n",
    ")\n",
    "\n",
    "#コールバック関数\n",
    "def update_graph(gamenames):\n",
    "  if gamenames is None or gamenames == []:\n",
    "    return None\n",
    "  fig = go.Figure() #インスタンス化\n",
    "  for gamename in gamenames:\n",
    "    fig.add_trace(go.Scatter(x=df.index,\n",
    "                            y=df['avg',gamename],\n",
    "                            name=gamename,\n",
    "                            hovertemplate='販売数: %{y:.1f}<extra></extra>'#桁数指定\n",
    "                            ))\n",
    "  fig.update_layout(showlegend=True,\n",
    "                    width=1000,\n",
    "                    height=500)\n",
    "  return dcc.Graph(figure=fig)\n",
    "    \n",
    "#レイアウト設定\n",
    "app.layout=html.Div([html.H1(\"Steamにおけるゲーム販売数\"),\n",
    "                     html.H2(\"全期間の販売数ランキング\"),\n",
    "                     dcc.Graph(figure=fig_rank),\n",
    "                     html.H2(\"販売数トップ10の推移\"),\n",
    "                              dcc.Dropdown(#ドロップダウン指定\n",
    "                                  id=\"stock_chart_dropdown\",\n",
    "                                  options=[\n",
    "                                  {\"label\":\"Dota 2\", \"value\":\"Dota 2\"},\n",
    "                                  {\"label\":\"Counter-Strike: Global Offensive\", \"value\":\"Counter-Strike: Global Offensive\"},\n",
    "                                  {\"label\":\"PLAYERUNKNOWN'S BATTLEGROUNDS\", \"value\":\"PLAYERUNKNOWN'S BATTLEGROUNDS\"},\n",
    "                                  {\"label\":\"Team Fortress 2\", \"value\":\"Team Fortress 2\"},\n",
    "                                  {\"label\":\"Grand Theft Auto V\", \"value\":\"Grand Theft Auto V\"},\n",
    "                                  {\"label\":\"Tom Clancy's Rainbow Six Siege\", \"value\":\"Tom Clancy's Rainbow Six Siege\"},\n",
    "                                  {\"label\":\"Warframe\", \"value\":\"Warframe\"},\n",
    "                                  {\"label\":\"ARK: Survival Evolved\", \"value\":\"ARK: Survival Evolved\"},\n",
    "                                  {\"label\":\"Sid Meier's Civilization V\", \"value\":\"Sid Meier's Civilization V\"},\n",
    "                                  {\"label\":\"Rust\", \"value\":\"Rust\"}                            \n",
    "                              ],\n",
    "                                multi=True\n",
    "                                ),\n",
    "                              html.Div(id=\"stock_chart\")\n",
    "                             ],style={\"margin-left\":\"5%\",\n",
    "                                      \"margin-right\":\"5%\"}\n",
    "                   )\n",
    "    \n",
    "app.run_server()"
   ]
  },
  {
   "cell_type": "code",
   "execution_count": null,
   "id": "2f443749-ff9a-4440-b380-a7bc51a9c96c",
   "metadata": {},
   "outputs": [],
   "source": []
  },
  {
   "cell_type": "code",
   "execution_count": null,
   "id": "2ad665b8-f489-46f5-9e05-6cd159581057",
   "metadata": {},
   "outputs": [],
   "source": []
  },
  {
   "cell_type": "code",
   "execution_count": null,
   "id": "cd3828d3-0ed6-4db6-852a-9700336a399d",
   "metadata": {},
   "outputs": [],
   "source": []
  },
  {
   "cell_type": "code",
   "execution_count": null,
   "id": "dbe514e1-ac6d-4107-888c-fadd9e3906b9",
   "metadata": {},
   "outputs": [],
   "source": []
  }
 ],
 "metadata": {
  "kernelspec": {
   "display_name": "Python 3 (ipykernel)",
   "language": "python",
   "name": "python3"
  },
  "language_info": {
   "codemirror_mode": {
    "name": "ipython",
    "version": 3
   },
   "file_extension": ".py",
   "mimetype": "text/x-python",
   "name": "python",
   "nbconvert_exporter": "python",
   "pygments_lexer": "ipython3",
   "version": "3.11.1"
  }
 },
 "nbformat": 4,
 "nbformat_minor": 5
}
